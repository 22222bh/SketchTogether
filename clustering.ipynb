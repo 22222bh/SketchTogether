{
  "nbformat": 4,
  "nbformat_minor": 0,
  "metadata": {
    "colab": {
      "name": "clustering.ipynb",
      "provenance": [],
      "collapsed_sections": [],
      "machine_shape": "hm"
    },
    "kernelspec": {
      "name": "python3",
      "display_name": "Python 3"
    },
    "language_info": {
      "name": "python"
    },
    "accelerator": "GPU",
    "widgets": {
      "application/vnd.jupyter.widget-state+json": {
        "64b0d80ced5f413b9129c27105d1c1eb": {
          "model_module": "@jupyter-widgets/controls",
          "model_name": "HBoxModel",
          "state": {
            "_view_name": "HBoxView",
            "_dom_classes": [],
            "_model_name": "HBoxModel",
            "_view_module": "@jupyter-widgets/controls",
            "_model_module_version": "1.5.0",
            "_view_count": null,
            "_view_module_version": "1.5.0",
            "box_style": "",
            "layout": "IPY_MODEL_b2b7ab4606f0499793b08288a309a58b",
            "_model_module": "@jupyter-widgets/controls",
            "children": [
              "IPY_MODEL_635861418a00423c8327658f1450aea9",
              "IPY_MODEL_06b4379000d5499786a8f7d5a0f40a76"
            ]
          }
        },
        "b2b7ab4606f0499793b08288a309a58b": {
          "model_module": "@jupyter-widgets/base",
          "model_name": "LayoutModel",
          "state": {
            "_view_name": "LayoutView",
            "grid_template_rows": null,
            "right": null,
            "justify_content": null,
            "_view_module": "@jupyter-widgets/base",
            "overflow": null,
            "_model_module_version": "1.2.0",
            "_view_count": null,
            "flex_flow": null,
            "width": null,
            "min_width": null,
            "border": null,
            "align_items": null,
            "bottom": null,
            "_model_module": "@jupyter-widgets/base",
            "top": null,
            "grid_column": null,
            "overflow_y": null,
            "overflow_x": null,
            "grid_auto_flow": null,
            "grid_area": null,
            "grid_template_columns": null,
            "flex": null,
            "_model_name": "LayoutModel",
            "justify_items": null,
            "grid_row": null,
            "max_height": null,
            "align_content": null,
            "visibility": null,
            "align_self": null,
            "height": null,
            "min_height": null,
            "padding": null,
            "grid_auto_rows": null,
            "grid_gap": null,
            "max_width": null,
            "order": null,
            "_view_module_version": "1.2.0",
            "grid_template_areas": null,
            "object_position": null,
            "object_fit": null,
            "grid_auto_columns": null,
            "margin": null,
            "display": null,
            "left": null
          }
        },
        "635861418a00423c8327658f1450aea9": {
          "model_module": "@jupyter-widgets/controls",
          "model_name": "FloatProgressModel",
          "state": {
            "_view_name": "ProgressView",
            "style": "IPY_MODEL_67af6e6a1f8d4ed79cfe7b999b3154b5",
            "_dom_classes": [],
            "description": "100%",
            "_model_name": "FloatProgressModel",
            "bar_style": "success",
            "max": 21388428,
            "_view_module": "@jupyter-widgets/controls",
            "_model_module_version": "1.5.0",
            "value": 21388428,
            "_view_count": null,
            "_view_module_version": "1.5.0",
            "orientation": "horizontal",
            "min": 0,
            "description_tooltip": null,
            "_model_module": "@jupyter-widgets/controls",
            "layout": "IPY_MODEL_a8ba5dfdfc044a47a63c980b540403ba"
          }
        },
        "06b4379000d5499786a8f7d5a0f40a76": {
          "model_module": "@jupyter-widgets/controls",
          "model_name": "HTMLModel",
          "state": {
            "_view_name": "HTMLView",
            "style": "IPY_MODEL_09549ed66b454f0595218c255c7fa571",
            "_dom_classes": [],
            "description": "",
            "_model_name": "HTMLModel",
            "placeholder": "​",
            "_view_module": "@jupyter-widgets/controls",
            "_model_module_version": "1.5.0",
            "value": " 20.4M/20.4M [00:00&lt;00:00, 46.8MB/s]",
            "_view_count": null,
            "_view_module_version": "1.5.0",
            "description_tooltip": null,
            "_model_module": "@jupyter-widgets/controls",
            "layout": "IPY_MODEL_6fb684dfe94a40618af82570ba09bdad"
          }
        },
        "67af6e6a1f8d4ed79cfe7b999b3154b5": {
          "model_module": "@jupyter-widgets/controls",
          "model_name": "ProgressStyleModel",
          "state": {
            "_view_name": "StyleView",
            "_model_name": "ProgressStyleModel",
            "description_width": "initial",
            "_view_module": "@jupyter-widgets/base",
            "_model_module_version": "1.5.0",
            "_view_count": null,
            "_view_module_version": "1.2.0",
            "bar_color": null,
            "_model_module": "@jupyter-widgets/controls"
          }
        },
        "a8ba5dfdfc044a47a63c980b540403ba": {
          "model_module": "@jupyter-widgets/base",
          "model_name": "LayoutModel",
          "state": {
            "_view_name": "LayoutView",
            "grid_template_rows": null,
            "right": null,
            "justify_content": null,
            "_view_module": "@jupyter-widgets/base",
            "overflow": null,
            "_model_module_version": "1.2.0",
            "_view_count": null,
            "flex_flow": null,
            "width": null,
            "min_width": null,
            "border": null,
            "align_items": null,
            "bottom": null,
            "_model_module": "@jupyter-widgets/base",
            "top": null,
            "grid_column": null,
            "overflow_y": null,
            "overflow_x": null,
            "grid_auto_flow": null,
            "grid_area": null,
            "grid_template_columns": null,
            "flex": null,
            "_model_name": "LayoutModel",
            "justify_items": null,
            "grid_row": null,
            "max_height": null,
            "align_content": null,
            "visibility": null,
            "align_self": null,
            "height": null,
            "min_height": null,
            "padding": null,
            "grid_auto_rows": null,
            "grid_gap": null,
            "max_width": null,
            "order": null,
            "_view_module_version": "1.2.0",
            "grid_template_areas": null,
            "object_position": null,
            "object_fit": null,
            "grid_auto_columns": null,
            "margin": null,
            "display": null,
            "left": null
          }
        },
        "09549ed66b454f0595218c255c7fa571": {
          "model_module": "@jupyter-widgets/controls",
          "model_name": "DescriptionStyleModel",
          "state": {
            "_view_name": "StyleView",
            "_model_name": "DescriptionStyleModel",
            "description_width": "",
            "_view_module": "@jupyter-widgets/base",
            "_model_module_version": "1.5.0",
            "_view_count": null,
            "_view_module_version": "1.2.0",
            "_model_module": "@jupyter-widgets/controls"
          }
        },
        "6fb684dfe94a40618af82570ba09bdad": {
          "model_module": "@jupyter-widgets/base",
          "model_name": "LayoutModel",
          "state": {
            "_view_name": "LayoutView",
            "grid_template_rows": null,
            "right": null,
            "justify_content": null,
            "_view_module": "@jupyter-widgets/base",
            "overflow": null,
            "_model_module_version": "1.2.0",
            "_view_count": null,
            "flex_flow": null,
            "width": null,
            "min_width": null,
            "border": null,
            "align_items": null,
            "bottom": null,
            "_model_module": "@jupyter-widgets/base",
            "top": null,
            "grid_column": null,
            "overflow_y": null,
            "overflow_x": null,
            "grid_auto_flow": null,
            "grid_area": null,
            "grid_template_columns": null,
            "flex": null,
            "_model_name": "LayoutModel",
            "justify_items": null,
            "grid_row": null,
            "max_height": null,
            "align_content": null,
            "visibility": null,
            "align_self": null,
            "height": null,
            "min_height": null,
            "padding": null,
            "grid_auto_rows": null,
            "grid_gap": null,
            "max_width": null,
            "order": null,
            "_view_module_version": "1.2.0",
            "grid_template_areas": null,
            "object_position": null,
            "object_fit": null,
            "grid_auto_columns": null,
            "margin": null,
            "display": null,
            "left": null
          }
        }
      }
    }
  },
  "cells": [
    {
      "cell_type": "code",
      "metadata": {
        "colab": {
          "base_uri": "https://localhost:8080/"
        },
        "id": "QkZiNJvw8qq-",
        "outputId": "9faba80f-e5da-4e54-8b7e-6f63d9db7dc0"
      },
      "source": [
        "%cd /content/drive/MyDrive/Sketch_RNN/Dataset/npy"
      ],
      "execution_count": null,
      "outputs": [
        {
          "output_type": "stream",
          "text": [
            "[Errno 2] No such file or directory: '/content/drive/MyDrive/Sketch_RNN/Dataset/npy'\n",
            "/content\n"
          ],
          "name": "stdout"
        }
      ]
    },
    {
      "cell_type": "code",
      "metadata": {
        "colab": {
          "base_uri": "https://localhost:8080/"
        },
        "id": "xKL5PhKsR1qN",
        "outputId": "67eaff31-3da3-4be0-ac30-96d5ec7c0e73"
      },
      "source": [
        "from google.colab import drive\n",
        "drive.mount('/content/drive')"
      ],
      "execution_count": null,
      "outputs": [
        {
          "output_type": "stream",
          "text": [
            "Mounted at /content/drive\n"
          ],
          "name": "stdout"
        }
      ]
    },
    {
      "cell_type": "markdown",
      "metadata": {
        "id": "csnVcc96JnLH"
      },
      "source": [
        "efficientnet 설치"
      ]
    },
    {
      "cell_type": "code",
      "metadata": {
        "colab": {
          "base_uri": "https://localhost:8080/"
        },
        "id": "eieNG2NxJIZF",
        "outputId": "9c5a2478-51b9-4591-99a9-be927f1c12b0"
      },
      "source": [
        "!pip install efficientnet_pytorch"
      ],
      "execution_count": null,
      "outputs": [
        {
          "output_type": "stream",
          "text": [
            "4/1AX4XfWi-H4TCA0PsjZglRYfofJ0QG-YTxzYDuKsABID45OLCe-2wWwQvSScCollecting efficientnet_pytorch\n",
            "  Downloading https://files.pythonhosted.org/packages/2e/a0/dd40b50aebf0028054b6b35062948da01123d7be38d08b6b1e5435df6363/efficientnet_pytorch-0.7.1.tar.gz\n",
            "Requirement already satisfied: torch in /usr/local/lib/python3.7/dist-packages (from efficientnet_pytorch) (1.9.0+cu102)\n",
            "Requirement already satisfied: typing-extensions in /usr/local/lib/python3.7/dist-packages (from torch->efficientnet_pytorch) (3.7.4.3)\n",
            "Building wheels for collected packages: efficientnet-pytorch\n",
            "  Building wheel for efficientnet-pytorch (setup.py) ... \u001b[?25l\u001b[?25hdone\n",
            "  Created wheel for efficientnet-pytorch: filename=efficientnet_pytorch-0.7.1-cp37-none-any.whl size=16443 sha256=ba725021fe9e559feb4f0cd13b4cdf1a6dda0c45fa973b0868b58e8afcb52e29\n",
            "  Stored in directory: /root/.cache/pip/wheels/84/27/aa/c46d23c4e8cc72d41283862b1437e0b3ad318417e8ed7d5921\n",
            "Successfully built efficientnet-pytorch\n",
            "Installing collected packages: efficientnet-pytorch\n",
            "Successfully installed efficientnet-pytorch-0.7.1\n"
          ],
          "name": "stdout"
        }
      ]
    },
    {
      "cell_type": "markdown",
      "metadata": {
        "id": "sX46pPCz4UWl"
      },
      "source": [
        "EfficientNet 테스트\n",
        " "
      ]
    },
    {
      "cell_type": "code",
      "metadata": {
        "id": "iJTmoZ1ZKlYK",
        "colab": {
          "base_uri": "https://localhost:8080/",
          "height": 344,
          "referenced_widgets": [
            "64b0d80ced5f413b9129c27105d1c1eb",
            "b2b7ab4606f0499793b08288a309a58b",
            "635861418a00423c8327658f1450aea9",
            "06b4379000d5499786a8f7d5a0f40a76",
            "67af6e6a1f8d4ed79cfe7b999b3154b5",
            "a8ba5dfdfc044a47a63c980b540403ba",
            "09549ed66b454f0595218c255c7fa571",
            "6fb684dfe94a40618af82570ba09bdad"
          ]
        },
        "outputId": "9ac18940-d26e-478b-e1ea-a915d465dfc6"
      },
      "source": [
        "from PIL import Image\n",
        "import torch\n",
        "import numpy as np\n",
        "from torchvision import transforms\n",
        "from efficientnet_pytorch import EfficientNet\n",
        "\n",
        "model = EfficientNet.from_pretrained('efficientnet-b0')\n",
        "\n",
        "# Load ImageNet class names\n",
        "import json\n",
        "import matplotlib.pyplot as plt\n",
        "labels_map = json.load(open('/content/drive/MyDrive/Sketch_RNN/Dataset/etc/label_map.txt'))\n",
        "labels_map = [labels_map[str(i)] for i in range(1000)]\n",
        "\n",
        "for i in range (10, 20):\n",
        "  np_array = np.load('/content/drive/MyDrive/Sketch_RNN/Dataset/npy/full_numpy_bitmap_flower.npy')\n",
        "  tmp = np_array[i].reshape(28, 28)\n",
        "  added_dim = np.repeat(tmp[..., np.newaxis], 3, -1)\n",
        "  new_img = Image.fromarray(added_dim)\n",
        "\n",
        "  plt.imshow(new_img)\n",
        "\n",
        "  # Preprocess image\n",
        "  tfms = transforms.Compose([transforms.Resize(224), transforms.ToTensor(),\n",
        "      transforms.Normalize([0.485, 0.456, 0.406], [0.229, 0.224, 0.225]),])\n",
        "  img = tfms(new_img).unsqueeze(0)\n",
        "  print(img.shape) # torch.Size([1, 3, 224, 224])\n",
        "\n",
        "  features = model.extract_features(img)\n",
        "  print(features.shape) # torch.Size([1, 1280, 7, 7])\n",
        "\n",
        "\n",
        "  # Classify\n",
        "  model.eval()\n",
        "  with torch.no_grad():\n",
        "      outputs = model(img)\n",
        "\n",
        "  # Print predictions\n",
        "  print('-----')\n",
        "  for idx in torch.topk(outputs, k=5).indices.squeeze(0).tolist():\n",
        "      prob = torch.softmax(outputs, dim=1)[0, idx].item()\n",
        "      print('{label:<75} ({p:.2f}%)'.format(label=labels_map[idx], p=prob*100))\n"
      ],
      "execution_count": null,
      "outputs": [
        {
          "output_type": "stream",
          "text": [
            "Downloading: \"https://github.com/lukemelas/EfficientNet-PyTorch/releases/download/1.0/efficientnet-b0-355c32eb.pth\" to /root/.cache/torch/hub/checkpoints/efficientnet-b0-355c32eb.pth\n"
          ],
          "name": "stderr"
        },
        {
          "output_type": "display_data",
          "data": {
            "application/vnd.jupyter.widget-view+json": {
              "model_id": "64b0d80ced5f413b9129c27105d1c1eb",
              "version_minor": 0,
              "version_major": 2
            },
            "text/plain": [
              "HBox(children=(FloatProgress(value=0.0, max=21388428.0), HTML(value='')))"
            ]
          },
          "metadata": {
            "tags": []
          }
        },
        {
          "output_type": "stream",
          "text": [
            "\n",
            "Loaded pretrained weights for efficientnet-b0\n"
          ],
          "name": "stdout"
        },
        {
          "output_type": "error",
          "ename": "FileNotFoundError",
          "evalue": "ignored",
          "traceback": [
            "\u001b[0;31m---------------------------------------------------------------------------\u001b[0m",
            "\u001b[0;31mFileNotFoundError\u001b[0m                         Traceback (most recent call last)",
            "\u001b[0;32m<ipython-input-2-48d74990ee79>\u001b[0m in \u001b[0;36m<module>\u001b[0;34m()\u001b[0m\n\u001b[1;32m     10\u001b[0m \u001b[0;32mimport\u001b[0m \u001b[0mjson\u001b[0m\u001b[0;34m\u001b[0m\u001b[0;34m\u001b[0m\u001b[0m\n\u001b[1;32m     11\u001b[0m \u001b[0;32mimport\u001b[0m \u001b[0mmatplotlib\u001b[0m\u001b[0;34m.\u001b[0m\u001b[0mpyplot\u001b[0m \u001b[0;32mas\u001b[0m \u001b[0mplt\u001b[0m\u001b[0;34m\u001b[0m\u001b[0;34m\u001b[0m\u001b[0m\n\u001b[0;32m---> 12\u001b[0;31m \u001b[0mlabels_map\u001b[0m \u001b[0;34m=\u001b[0m \u001b[0mjson\u001b[0m\u001b[0;34m.\u001b[0m\u001b[0mload\u001b[0m\u001b[0;34m(\u001b[0m\u001b[0mopen\u001b[0m\u001b[0;34m(\u001b[0m\u001b[0;34m'/content/drive/MyDrive/Sketch_RNN/Dataset/etc/label_map.txt'\u001b[0m\u001b[0;34m)\u001b[0m\u001b[0;34m)\u001b[0m\u001b[0;34m\u001b[0m\u001b[0;34m\u001b[0m\u001b[0m\n\u001b[0m\u001b[1;32m     13\u001b[0m \u001b[0mlabels_map\u001b[0m \u001b[0;34m=\u001b[0m \u001b[0;34m[\u001b[0m\u001b[0mlabels_map\u001b[0m\u001b[0;34m[\u001b[0m\u001b[0mstr\u001b[0m\u001b[0;34m(\u001b[0m\u001b[0mi\u001b[0m\u001b[0;34m)\u001b[0m\u001b[0;34m]\u001b[0m \u001b[0;32mfor\u001b[0m \u001b[0mi\u001b[0m \u001b[0;32min\u001b[0m \u001b[0mrange\u001b[0m\u001b[0;34m(\u001b[0m\u001b[0;36m1000\u001b[0m\u001b[0;34m)\u001b[0m\u001b[0;34m]\u001b[0m\u001b[0;34m\u001b[0m\u001b[0;34m\u001b[0m\u001b[0m\n\u001b[1;32m     14\u001b[0m \u001b[0;34m\u001b[0m\u001b[0m\n",
            "\u001b[0;31mFileNotFoundError\u001b[0m: [Errno 2] No such file or directory: '/content/drive/MyDrive/Sketch_RNN/Dataset/etc/label_map.txt'"
          ]
        }
      ]
    },
    {
      "cell_type": "markdown",
      "metadata": {
        "id": "KmvaY7Nd2YPr"
      },
      "source": [
        "Feature Extraction\n"
      ]
    },
    {
      "cell_type": "code",
      "metadata": {
        "colab": {
          "base_uri": "https://localhost:8080/"
        },
        "id": "uq7bwhQO4f9K",
        "outputId": "e47e0494-27f0-479f-bbab-924ad7e2de64"
      },
      "source": [
        "from efficientnet_pytorch import EfficientNet\n",
        "\n",
        "from PIL import Image\n",
        "import numpy as np\n",
        "from torchvision import transforms\n",
        "\n",
        "# 모델 생성\n",
        "model = EfficientNet.from_pretrained('efficientnet-b0')\n",
        "\n",
        "\n",
        "# ^^ 메인에서 로드하고 포문 내에서 extract_features 실행\n",
        "\n",
        "def extract_feature(np_array, model):\n",
        "  tmp = np_array.reshape(28, 28)\n",
        "  added_dim = np.repeat(tmp[..., np.newaxis], 3, -1)\n",
        "  new_img = Image.fromarray(added_dim)\n",
        "\n",
        "  # plt.imshow(new_img)\n",
        "\n",
        "  # Preprocess image\n",
        "  tfms = transforms.Compose([transforms.Resize(224), transforms.ToTensor(),\n",
        "      transforms.Normalize([0.485, 0.456, 0.406], [0.229, 0.224, 0.225]),])\n",
        "  img = tfms(new_img).unsqueeze(0)\n",
        "\n",
        "  features = model.extract_features(img)\n",
        "  features = features.flatten()\n",
        "  return features"
      ],
      "execution_count": null,
      "outputs": [
        {
          "output_type": "stream",
          "text": [
            "Loaded pretrained weights for efficientnet-b0\n"
          ],
          "name": "stdout"
        }
      ]
    },
    {
      "cell_type": "markdown",
      "metadata": {
        "id": "SZA1u3Xm4cc-"
      },
      "source": [
        "Clustering"
      ]
    },
    {
      "cell_type": "code",
      "metadata": {
        "id": "IQaF-Ju32WY6"
      },
      "source": [
        "# clustering and dimension reduction\n",
        "from sklearn.cluster import KMeans\n",
        "from sklearn.decomposition import PCA\n",
        "\n",
        "# for everything else\n",
        "import os\n",
        "import numpy as np\n",
        "import matplotlib.pyplot as plt\n",
        "from random import randint\n",
        "import pandas as pd\n",
        "import pickle\n",
        "import torch\n",
        "import json"
      ],
      "execution_count": null,
      "outputs": []
    },
    {
      "cell_type": "code",
      "metadata": {
        "colab": {
          "base_uri": "https://localhost:8080/"
        },
        "id": "VQhFazTa23-4",
        "outputId": "0bbbec12-765e-4ee0-cb14-d907b2f29e7f"
      },
      "source": [
        "data = {}\n",
        "label_num = 13\n",
        "labels_map = json.load(open('/content/drive/MyDrive/Sketch_RNN/Dataset/etc/npy_label.txt'))\n",
        "labels_map = [labels_map[str(i)] for i in range(label_num)] # t-shirt, smiley face 뺴고 진행\n",
        "\n",
        "img_prefix = '/content/drive/MyDrive/Sketch_RNN/Dataset/npy/'\n",
        "%cd /content/drive/MyDrive/Clustering\n",
        "\n",
        "for i in range (len(labels_map)):\n",
        "  img_loc = img_prefix + str(labels_map[i]) + '.npy'\n",
        "  np_array = np.load(img_loc)\n",
        "  # data_num = np_array.shape[0]\n",
        "  data_num = 3000\n",
        "  print(data_num)\n",
        "\n",
        "  for j in range(data_num):\n",
        "      features = extract_feature(np_array[j], model) # Tensor\n",
        "      # Convert tensor to numpy array\n",
        "      data[i * data_num + j] = features.cpu().detach().numpy()\n",
        "  np.save('feature_2500', data) # 덮어쓰기\n",
        "  print(str(i) + 'saved')\n",
        "\n",
        "feat = np.array(list(data.values()))\n",
        "# print(feat.shape)\n",
        "\n",
        "pca = PCA(n_components=0.9, random_state = 22)\n",
        "pca.fit(feat)\n",
        "x = pca.transform(feat)"
      ],
      "execution_count": null,
      "outputs": [
        {
          "output_type": "stream",
          "text": [
            "/content/drive/MyDrive/Clustering\n",
            "3000\n",
            "0saved\n",
            "3000\n",
            "1saved\n",
            "3000\n",
            "2saved\n",
            "3000\n",
            "3saved\n",
            "3000\n",
            "4saved\n",
            "3000\n",
            "5saved\n",
            "3000\n",
            "6saved\n",
            "3000\n",
            "7saved\n",
            "3000\n",
            "8saved\n",
            "3000\n",
            "9saved\n",
            "3000\n",
            "10saved\n",
            "3000\n",
            "11saved\n",
            "3000\n",
            "12saved\n"
          ],
          "name": "stdout"
        }
      ]
    },
    {
      "cell_type": "code",
      "metadata": {
        "colab": {
          "base_uri": "https://localhost:8080/",
          "height": 222
        },
        "id": "NkRduhWoMHpj",
        "outputId": "351549e8-17a3-4954-c0f2-e5c52f91e51f"
      },
      "source": [
        "print(x.shape)\n",
        "%cd /content/drive/MyDrive/Clustering\n",
        "print('hiasd')\n",
        "!pwd"
      ],
      "execution_count": null,
      "outputs": [
        {
          "output_type": "error",
          "ename": "NameError",
          "evalue": "ignored",
          "traceback": [
            "\u001b[0;31m---------------------------------------------------------------------------\u001b[0m",
            "\u001b[0;31mNameError\u001b[0m                                 Traceback (most recent call last)",
            "\u001b[0;32m<ipython-input-1-9885a480e54b>\u001b[0m in \u001b[0;36m<module>\u001b[0;34m()\u001b[0m\n\u001b[0;32m----> 1\u001b[0;31m \u001b[0mprint\u001b[0m\u001b[0;34m(\u001b[0m\u001b[0mx\u001b[0m\u001b[0;34m.\u001b[0m\u001b[0mshape\u001b[0m\u001b[0;34m)\u001b[0m\u001b[0;34m\u001b[0m\u001b[0;34m\u001b[0m\u001b[0m\n\u001b[0m\u001b[1;32m      2\u001b[0m \u001b[0mget_ipython\u001b[0m\u001b[0;34m(\u001b[0m\u001b[0;34m)\u001b[0m\u001b[0;34m.\u001b[0m\u001b[0mmagic\u001b[0m\u001b[0;34m(\u001b[0m\u001b[0;34m'cd /content/drive/MyDrive/Clustering'\u001b[0m\u001b[0;34m)\u001b[0m\u001b[0;34m\u001b[0m\u001b[0;34m\u001b[0m\u001b[0m\n\u001b[1;32m      3\u001b[0m \u001b[0mprint\u001b[0m\u001b[0;34m(\u001b[0m\u001b[0;34m'hiasd'\u001b[0m\u001b[0;34m)\u001b[0m\u001b[0;34m\u001b[0m\u001b[0;34m\u001b[0m\u001b[0m\n\u001b[1;32m      4\u001b[0m \u001b[0mget_ipython\u001b[0m\u001b[0;34m(\u001b[0m\u001b[0;34m)\u001b[0m\u001b[0;34m.\u001b[0m\u001b[0msystem\u001b[0m\u001b[0;34m(\u001b[0m\u001b[0;34m'pwd'\u001b[0m\u001b[0;34m)\u001b[0m\u001b[0;34m\u001b[0m\u001b[0;34m\u001b[0m\u001b[0m\n",
            "\u001b[0;31mNameError\u001b[0m: name 'x' is not defined"
          ]
        }
      ]
    },
    {
      "cell_type": "code",
      "metadata": {
        "colab": {
          "base_uri": "https://localhost:8080/",
          "height": 190
        },
        "id": "5jZnc2O9Kgha",
        "outputId": "757e2b12-cfc6-4a5c-df87-1ab1860ea93a"
      },
      "source": [
        "kmeans_2000 = KMeans(n_clusters=len(labels_map),n_jobs=-1, random_state=22) # data 2000개\n",
        "kmeans.fit(x)"
      ],
      "execution_count": null,
      "outputs": [
        {
          "output_type": "error",
          "ename": "NameError",
          "evalue": "ignored",
          "traceback": [
            "\u001b[0;31m---------------------------------------------------------------------------\u001b[0m",
            "\u001b[0;31mNameError\u001b[0m                                 Traceback (most recent call last)",
            "\u001b[0;32m<ipython-input-2-d2ba280d30e7>\u001b[0m in \u001b[0;36m<module>\u001b[0;34m()\u001b[0m\n\u001b[0;32m----> 1\u001b[0;31m \u001b[0mkmeans_2000\u001b[0m \u001b[0;34m=\u001b[0m \u001b[0mKMeans\u001b[0m\u001b[0;34m(\u001b[0m\u001b[0mn_clusters\u001b[0m\u001b[0;34m=\u001b[0m\u001b[0mlen\u001b[0m\u001b[0;34m(\u001b[0m\u001b[0mlabels_map\u001b[0m\u001b[0;34m)\u001b[0m\u001b[0;34m,\u001b[0m\u001b[0mn_jobs\u001b[0m\u001b[0;34m=\u001b[0m\u001b[0;34m-\u001b[0m\u001b[0;36m1\u001b[0m\u001b[0;34m,\u001b[0m \u001b[0mrandom_state\u001b[0m\u001b[0;34m=\u001b[0m\u001b[0;36m22\u001b[0m\u001b[0;34m)\u001b[0m \u001b[0;31m# data 2000개\u001b[0m\u001b[0;34m\u001b[0m\u001b[0;34m\u001b[0m\u001b[0m\n\u001b[0m\u001b[1;32m      2\u001b[0m \u001b[0mkmeans\u001b[0m\u001b[0;34m.\u001b[0m\u001b[0mfit\u001b[0m\u001b[0;34m(\u001b[0m\u001b[0mx\u001b[0m\u001b[0;34m)\u001b[0m\u001b[0;34m\u001b[0m\u001b[0;34m\u001b[0m\u001b[0m\n",
            "\u001b[0;31mNameError\u001b[0m: name 'KMeans' is not defined"
          ]
        }
      ]
    },
    {
      "cell_type": "code",
      "metadata": {
        "id": "VZDKjpH15e_p",
        "colab": {
          "base_uri": "https://localhost:8080/"
        },
        "outputId": "028ec39c-d6c4-4fe3-f831-299171035816"
      },
      "source": [
        "kmeans = KMeans(n_clusters=len(labels_map),n_jobs=-1, random_state=22) # data 200개\n",
        "kmeans.fit(x)"
      ],
      "execution_count": null,
      "outputs": [
        {
          "output_type": "execute_result",
          "data": {
            "text/plain": [
              "KMeans(algorithm='auto', copy_x=True, init='k-means++', max_iter=300,\n",
              "       n_clusters=13, n_init=10, n_jobs=-1, precompute_distances='auto',\n",
              "       random_state=22, tol=0.0001, verbose=0)"
            ]
          },
          "metadata": {
            "tags": []
          },
          "execution_count": 96
        }
      ]
    },
    {
      "cell_type": "code",
      "metadata": {
        "id": "WzUQOSyW7EjF"
      },
      "source": [
        "filenames = np.arange(0, label_num * data_num)\n",
        "# holds the cluster id and the images { id: [images] }\n",
        "groups = {}\n",
        "for file, cluster in zip(filenames,kmeans.labels_):\n",
        "    if cluster not in groups.keys():\n",
        "        groups[cluster] = []\n",
        "        groups[cluster].append(file)\n",
        "    else:\n",
        "        groups[cluster].append(file)"
      ],
      "execution_count": null,
      "outputs": []
    },
    {
      "cell_type": "code",
      "metadata": {
        "colab": {
          "base_uri": "https://localhost:8080/"
        },
        "id": "RNnhUADe7mlc",
        "outputId": "fc3f94e5-367c-4a91-d38a-ece98d273f70"
      },
      "source": [
        "accu = []\n",
        "sum = 0\n",
        "cnt = 0\n",
        "\n",
        "\n",
        "for i in range(label_num):\n",
        "  length = len(groups[i])\n",
        "  for j in range(length):\n",
        "    if groups[i][j] >= i * data_num and groups[i][j] < (i+1)*data_num:\n",
        "      cnt+=1\n",
        "  accu.append( str(round(cnt / length * 100, 2)) + '%')\n",
        "\n",
        "print(accu)\n",
        "\n"
      ],
      "execution_count": null,
      "outputs": [
        {
          "output_type": "stream",
          "text": [
            "['29.85%', '32.46%', '28.91%', '40.76%', '76.47%', '75.78%', '37.4%', '73.13%', '65.77%', '53.85%', '53.8%', '54.05%', '28.81%']\n"
          ],
          "name": "stdout"
        }
      ]
    }
  ]
}