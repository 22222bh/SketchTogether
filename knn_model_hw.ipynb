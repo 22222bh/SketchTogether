{
  "nbformat": 4,
  "nbformat_minor": 0,
  "metadata": {
    "colab": {
      "name": "knn_model_hw.ipynb",
      "provenance": [],
      "mount_file_id": "1oPq9FRHiBXkMDEiv2rwahmoRddGa53Wi",
      "authorship_tag": "ABX9TyPkU7VD+LYRsbSfj/0j3DKG",
      "include_colab_link": true
    },
    "kernelspec": {
      "name": "python3",
      "display_name": "Python 3"
    },
    "language_info": {
      "name": "python"
    },
    "widgets": {
      "application/vnd.jupyter.widget-state+json": {
        "982b7d722f9243cd8671aad4b5ec1911": {
          "model_module": "@jupyter-widgets/controls",
          "model_name": "HBoxModel",
          "state": {
            "_view_name": "HBoxView",
            "_dom_classes": [],
            "_model_name": "HBoxModel",
            "_view_module": "@jupyter-widgets/controls",
            "_model_module_version": "1.5.0",
            "_view_count": null,
            "_view_module_version": "1.5.0",
            "box_style": "",
            "layout": "IPY_MODEL_6f54a0fd2fbc4b4aade923ff21bd3113",
            "_model_module": "@jupyter-widgets/controls",
            "children": [
              "IPY_MODEL_598e0e8f785943ee8a1bc036c46c83e0",
              "IPY_MODEL_55956527d5554707aa7d924a36081554"
            ]
          }
        },
        "6f54a0fd2fbc4b4aade923ff21bd3113": {
          "model_module": "@jupyter-widgets/base",
          "model_name": "LayoutModel",
          "state": {
            "_view_name": "LayoutView",
            "grid_template_rows": null,
            "right": null,
            "justify_content": null,
            "_view_module": "@jupyter-widgets/base",
            "overflow": null,
            "_model_module_version": "1.2.0",
            "_view_count": null,
            "flex_flow": null,
            "width": null,
            "min_width": null,
            "border": null,
            "align_items": null,
            "bottom": null,
            "_model_module": "@jupyter-widgets/base",
            "top": null,
            "grid_column": null,
            "overflow_y": null,
            "overflow_x": null,
            "grid_auto_flow": null,
            "grid_area": null,
            "grid_template_columns": null,
            "flex": null,
            "_model_name": "LayoutModel",
            "justify_items": null,
            "grid_row": null,
            "max_height": null,
            "align_content": null,
            "visibility": null,
            "align_self": null,
            "height": null,
            "min_height": null,
            "padding": null,
            "grid_auto_rows": null,
            "grid_gap": null,
            "max_width": null,
            "order": null,
            "_view_module_version": "1.2.0",
            "grid_template_areas": null,
            "object_position": null,
            "object_fit": null,
            "grid_auto_columns": null,
            "margin": null,
            "display": null,
            "left": null
          }
        },
        "598e0e8f785943ee8a1bc036c46c83e0": {
          "model_module": "@jupyter-widgets/controls",
          "model_name": "FloatProgressModel",
          "state": {
            "_view_name": "ProgressView",
            "style": "IPY_MODEL_0b69f7b417494de9988892ce9c49b0fb",
            "_dom_classes": [],
            "description": "100%",
            "_model_name": "FloatProgressModel",
            "bar_style": "success",
            "max": 21388428,
            "_view_module": "@jupyter-widgets/controls",
            "_model_module_version": "1.5.0",
            "value": 21388428,
            "_view_count": null,
            "_view_module_version": "1.5.0",
            "orientation": "horizontal",
            "min": 0,
            "description_tooltip": null,
            "_model_module": "@jupyter-widgets/controls",
            "layout": "IPY_MODEL_9893bf62d72148c38574ec58c7894cbe"
          }
        },
        "55956527d5554707aa7d924a36081554": {
          "model_module": "@jupyter-widgets/controls",
          "model_name": "HTMLModel",
          "state": {
            "_view_name": "HTMLView",
            "style": "IPY_MODEL_9ec9c9a846d0472d923f2a30053dd328",
            "_dom_classes": [],
            "description": "",
            "_model_name": "HTMLModel",
            "placeholder": "​",
            "_view_module": "@jupyter-widgets/controls",
            "_model_module_version": "1.5.0",
            "value": " 20.4M/20.4M [00:00&lt;00:00, 96.1MB/s]",
            "_view_count": null,
            "_view_module_version": "1.5.0",
            "description_tooltip": null,
            "_model_module": "@jupyter-widgets/controls",
            "layout": "IPY_MODEL_c22884e05e004f6aae5b36279d9adf77"
          }
        },
        "0b69f7b417494de9988892ce9c49b0fb": {
          "model_module": "@jupyter-widgets/controls",
          "model_name": "ProgressStyleModel",
          "state": {
            "_view_name": "StyleView",
            "_model_name": "ProgressStyleModel",
            "description_width": "initial",
            "_view_module": "@jupyter-widgets/base",
            "_model_module_version": "1.5.0",
            "_view_count": null,
            "_view_module_version": "1.2.0",
            "bar_color": null,
            "_model_module": "@jupyter-widgets/controls"
          }
        },
        "9893bf62d72148c38574ec58c7894cbe": {
          "model_module": "@jupyter-widgets/base",
          "model_name": "LayoutModel",
          "state": {
            "_view_name": "LayoutView",
            "grid_template_rows": null,
            "right": null,
            "justify_content": null,
            "_view_module": "@jupyter-widgets/base",
            "overflow": null,
            "_model_module_version": "1.2.0",
            "_view_count": null,
            "flex_flow": null,
            "width": null,
            "min_width": null,
            "border": null,
            "align_items": null,
            "bottom": null,
            "_model_module": "@jupyter-widgets/base",
            "top": null,
            "grid_column": null,
            "overflow_y": null,
            "overflow_x": null,
            "grid_auto_flow": null,
            "grid_area": null,
            "grid_template_columns": null,
            "flex": null,
            "_model_name": "LayoutModel",
            "justify_items": null,
            "grid_row": null,
            "max_height": null,
            "align_content": null,
            "visibility": null,
            "align_self": null,
            "height": null,
            "min_height": null,
            "padding": null,
            "grid_auto_rows": null,
            "grid_gap": null,
            "max_width": null,
            "order": null,
            "_view_module_version": "1.2.0",
            "grid_template_areas": null,
            "object_position": null,
            "object_fit": null,
            "grid_auto_columns": null,
            "margin": null,
            "display": null,
            "left": null
          }
        },
        "9ec9c9a846d0472d923f2a30053dd328": {
          "model_module": "@jupyter-widgets/controls",
          "model_name": "DescriptionStyleModel",
          "state": {
            "_view_name": "StyleView",
            "_model_name": "DescriptionStyleModel",
            "description_width": "",
            "_view_module": "@jupyter-widgets/base",
            "_model_module_version": "1.5.0",
            "_view_count": null,
            "_view_module_version": "1.2.0",
            "_model_module": "@jupyter-widgets/controls"
          }
        },
        "c22884e05e004f6aae5b36279d9adf77": {
          "model_module": "@jupyter-widgets/base",
          "model_name": "LayoutModel",
          "state": {
            "_view_name": "LayoutView",
            "grid_template_rows": null,
            "right": null,
            "justify_content": null,
            "_view_module": "@jupyter-widgets/base",
            "overflow": null,
            "_model_module_version": "1.2.0",
            "_view_count": null,
            "flex_flow": null,
            "width": null,
            "min_width": null,
            "border": null,
            "align_items": null,
            "bottom": null,
            "_model_module": "@jupyter-widgets/base",
            "top": null,
            "grid_column": null,
            "overflow_y": null,
            "overflow_x": null,
            "grid_auto_flow": null,
            "grid_area": null,
            "grid_template_columns": null,
            "flex": null,
            "_model_name": "LayoutModel",
            "justify_items": null,
            "grid_row": null,
            "max_height": null,
            "align_content": null,
            "visibility": null,
            "align_self": null,
            "height": null,
            "min_height": null,
            "padding": null,
            "grid_auto_rows": null,
            "grid_gap": null,
            "max_width": null,
            "order": null,
            "_view_module_version": "1.2.0",
            "grid_template_areas": null,
            "object_position": null,
            "object_fit": null,
            "grid_auto_columns": null,
            "margin": null,
            "display": null,
            "left": null
          }
        }
      }
    }
  },
  "cells": [
    {
      "cell_type": "markdown",
      "metadata": {
        "id": "view-in-github",
        "colab_type": "text"
      },
      "source": [
        "<a href=\"https://colab.research.google.com/github/22222bh/SketchTogether/blob/user%2FByeonghyeon/knn_model_hw.ipynb\" target=\"_parent\"><img src=\"https://colab.research.google.com/assets/colab-badge.svg\" alt=\"Open In Colab\"/></a>"
      ]
    },
    {
      "cell_type": "code",
      "metadata": {
        "colab": {
          "base_uri": "https://localhost:8080/"
        },
        "id": "4znoWoskWovx",
        "outputId": "4cd3ba10-0742-4e1a-e6ab-99330ee83998"
      },
      "source": [
        "!pip install efficientnet_pytorch"
      ],
      "execution_count": 6,
      "outputs": [
        {
          "output_type": "stream",
          "text": [
            "Collecting efficientnet_pytorch\n",
            "  Downloading efficientnet_pytorch-0.7.1.tar.gz (21 kB)\n",
            "Requirement already satisfied: torch in /usr/local/lib/python3.7/dist-packages (from efficientnet_pytorch) (1.9.0+cu102)\n",
            "Requirement already satisfied: typing-extensions in /usr/local/lib/python3.7/dist-packages (from torch->efficientnet_pytorch) (3.7.4.3)\n",
            "Building wheels for collected packages: efficientnet-pytorch\n",
            "  Building wheel for efficientnet-pytorch (setup.py) ... \u001b[?25l\u001b[?25hdone\n",
            "  Created wheel for efficientnet-pytorch: filename=efficientnet_pytorch-0.7.1-py3-none-any.whl size=16446 sha256=411593f752748b42de5396685071f64190d008df6ada4e20786f3edeae5f76c0\n",
            "  Stored in directory: /root/.cache/pip/wheels/0e/cc/b2/49e74588263573ff778da58cc99b9c6349b496636a7e165be6\n",
            "Successfully built efficientnet-pytorch\n",
            "Installing collected packages: efficientnet-pytorch\n",
            "Successfully installed efficientnet-pytorch-0.7.1\n"
          ],
          "name": "stdout"
        }
      ]
    },
    {
      "cell_type": "code",
      "metadata": {
        "id": "6_iUvnzmWsSf"
      },
      "source": [
        "from torch import nn"
      ],
      "execution_count": 1,
      "outputs": []
    },
    {
      "cell_type": "code",
      "metadata": {
        "id": "XO8UlBm4WtXs"
      },
      "source": [
        "class knnModel(nn.Module):\n",
        "    def __init__(self):\n",
        "        super(knnModel, self).__init__()\n",
        "        from efficientnet_pytorch import EfficientNet\n",
        "        from sklearn.cluster import KMeans\n",
        "        from sklearn.decomposition import PCA\n",
        "        # from keras.applications.vgg16 import VGG16 \n",
        "        # from keras.models import Model\n",
        "        # from keras.applications.vgg16 import preprocess_input \n",
        "        import os\n",
        "        import logging\n",
        "        import torch\n",
        "        from torch import nn\n",
        "        import pickle\n",
        "        from tqdm import tqdm\n",
        "        from torchvision import transforms\n",
        "        import numpy as np\n",
        "        import pandas as pd\n",
        "        \n",
        "\n",
        "        print('init')\n",
        "        self.feat_path = \"/content/drive/MyDrive/skku_Clustering/features_hw_filtered_10.npy\"\n",
        "        self.filename_path = \"/content/drive/MyDrive/skku_Clustering/filenames_hw_filtered_10.npy\"\n",
        "        self.feat = np.load(self.feat_path)\n",
        "        self.filenames = np.load(self.filename_path)\n",
        "        #transform\n",
        "        self.tfms = transforms.Compose([transforms.Resize(224), transforms.ToTensor(),\n",
        "            transforms.Normalize([0.485, 0.456, 0.406], [0.229, 0.224, 0.225]),])\n",
        "        self.pooling = nn.AdaptiveAvgPool2d(1)\n",
        "\n",
        "        # self.effi_model = EfficientNet.from_pretrained('efficientnet-b0')\n",
        "        self.effi_model = torch.load('/content/drive/MyDrive/Sketch_RNN/skku_Clustering/torch_model/efficient.pt')\n",
        "  \n",
        "    def forward(self, input):\n",
        "      print('forward')\n",
        "      from PIL import Image\n",
        "      import numpy as np\n",
        "      from sklearn.manifold import TSNE\n",
        "      from sklearn.neighbors import NearestNeighbors\n",
        "      import matplotlib.pyplot as plt\n",
        "      def feature_extraction(image, model):\n",
        "          img = self.tfms(Image.open(image).convert(\"RGB\")).unsqueeze(0)\n",
        "          feature = model.extract_features(img)\n",
        "          features = self.pooling(feature)\n",
        "          return features\n",
        "      \n",
        "      new_data = {}\n",
        "      \n",
        "      new_feat = feature_extraction(input, self.effi_model)\n",
        "      new_feat = new_feat.detach().numpy().reshape(-1)\n",
        "      new_data[input] = (new_feat)\n",
        "      \n",
        "      self.feat = np.append(self.feat, np.array(list(new_data.values())), axis = 0)\n",
        "      self.filenames = np.append(self.filenames, np.array(list(new_data.keys())), axis = 0)\n",
        "      tsne = TSNE(n_components=2, init='pca', random_state=0)\n",
        "      x = tsne.fit_transform(self.feat)\n",
        "\n",
        "      knn = NearestNeighbors(n_neighbors=6, algorithm='auto').fit(x)\n",
        "      distances, indices = knn.kneighbors([list(x[-1])])\n",
        "\n",
        "      image = []\n",
        "      name = []\n",
        "      data_path = '/content/drive/MyDrive/Sketch_RNN/Dataset/Filtered_img/'\n",
        "      for i, idx in enumerate(indices[0]):\n",
        "        if self.filenames[idx].startswith('/'):\n",
        "          image.append(np.array(Image.open(self.filenames[idx])))\n",
        "          name.append(self.filenames[idx].split('/')[-1].split('.')[0])\n",
        "        else:\n",
        "          image.append(np.array(Image.open(data_path + self.filenames[idx].split('_')[0] + '/' + self.filenames[idx] + '.jpg'))) # 코랩용\n",
        "          # image.append(np.array(Image.open(data_path + '/' + self.filenames[idx] + '.jpg'))) # 안스용\n",
        "          name.append(self.filenames[idx].split('/')[-1].split('.')[0])\n",
        "\n",
        "      for i, img in enumerate(image):\n",
        "        plt.subplot(1,6,i+1)\n",
        "        plt.title(name[i])\n",
        "        plt.imshow(img, 'gray')\n",
        "\n",
        "      plt.tight_layout()\n",
        "      plt.show()"
      ],
      "execution_count": 9,
      "outputs": []
    },
    {
      "cell_type": "code",
      "metadata": {
        "id": "d4iAiTzgp97B"
      },
      "source": [
        "model('/content/drive/MyDrive/skku_Clustering/test_set/cloud/test_cloud_1.jpg')"
      ],
      "execution_count": null,
      "outputs": []
    },
    {
      "cell_type": "code",
      "metadata": {
        "colab": {
          "base_uri": "https://localhost:8080/",
          "height": 500
        },
        "id": "D52Xu0TtZgrv",
        "outputId": "47abf9f5-06d8-4599-a4b0-5350acf4263f"
      },
      "source": [
        "model = knnModel()\n",
        "model.eval()\n",
        "model('/content/drive/MyDrive/skku_Clustering/test_set/cloud/test_cloud_1.jpg')\n",
        "torch.save(model.state_dict(), model_path + 'plz.pt')\n"
      ],
      "execution_count": 10,
      "outputs": [
        {
          "output_type": "error",
          "ename": "ModuleNotFoundError",
          "evalue": "ignored",
          "traceback": [
            "\u001b[0;31m---------------------------------------------------------------------------\u001b[0m",
            "\u001b[0;31mModuleNotFoundError\u001b[0m                       Traceback (most recent call last)",
            "\u001b[0;32m<ipython-input-10-0492a72b16f0>\u001b[0m in \u001b[0;36m<module>\u001b[0;34m()\u001b[0m\n\u001b[0;32m----> 1\u001b[0;31m \u001b[0mmodel\u001b[0m \u001b[0;34m=\u001b[0m \u001b[0mknnModel\u001b[0m\u001b[0;34m(\u001b[0m\u001b[0;34m)\u001b[0m\u001b[0;34m\u001b[0m\u001b[0;34m\u001b[0m\u001b[0m\n\u001b[0m\u001b[1;32m      2\u001b[0m \u001b[0mmodel\u001b[0m\u001b[0;34m.\u001b[0m\u001b[0meval\u001b[0m\u001b[0;34m(\u001b[0m\u001b[0;34m)\u001b[0m\u001b[0;34m\u001b[0m\u001b[0;34m\u001b[0m\u001b[0m\n\u001b[1;32m      3\u001b[0m \u001b[0mmodel\u001b[0m\u001b[0;34m(\u001b[0m\u001b[0;34m'/content/drive/MyDrive/skku_Clustering/test_set/cloud/test_cloud_1.jpg'\u001b[0m\u001b[0;34m)\u001b[0m\u001b[0;34m\u001b[0m\u001b[0;34m\u001b[0m\u001b[0m\n\u001b[1;32m      4\u001b[0m \u001b[0mtorch\u001b[0m\u001b[0;34m.\u001b[0m\u001b[0msave\u001b[0m\u001b[0;34m(\u001b[0m\u001b[0mmodel\u001b[0m\u001b[0;34m.\u001b[0m\u001b[0mstate_dict\u001b[0m\u001b[0;34m(\u001b[0m\u001b[0;34m)\u001b[0m\u001b[0;34m,\u001b[0m \u001b[0mmodel_path\u001b[0m \u001b[0;34m+\u001b[0m \u001b[0;34m'plz.pt'\u001b[0m\u001b[0;34m)\u001b[0m\u001b[0;34m\u001b[0m\u001b[0;34m\u001b[0m\u001b[0m\n",
            "\u001b[0;32m<ipython-input-9-88fdc8e76dca>\u001b[0m in \u001b[0;36m__init__\u001b[0;34m(self)\u001b[0m\n\u001b[1;32m      2\u001b[0m     \u001b[0;32mdef\u001b[0m \u001b[0m__init__\u001b[0m\u001b[0;34m(\u001b[0m\u001b[0mself\u001b[0m\u001b[0;34m)\u001b[0m\u001b[0;34m:\u001b[0m\u001b[0;34m\u001b[0m\u001b[0;34m\u001b[0m\u001b[0m\n\u001b[1;32m      3\u001b[0m         \u001b[0msuper\u001b[0m\u001b[0;34m(\u001b[0m\u001b[0mknnModel\u001b[0m\u001b[0;34m,\u001b[0m \u001b[0mself\u001b[0m\u001b[0;34m)\u001b[0m\u001b[0;34m.\u001b[0m\u001b[0m__init__\u001b[0m\u001b[0;34m(\u001b[0m\u001b[0;34m)\u001b[0m\u001b[0;34m\u001b[0m\u001b[0;34m\u001b[0m\u001b[0m\n\u001b[0;32m----> 4\u001b[0;31m         \u001b[0;32mfrom\u001b[0m \u001b[0mefficientnet_pytorch\u001b[0m \u001b[0;32mimport\u001b[0m \u001b[0mEfficientNet\u001b[0m\u001b[0;34m\u001b[0m\u001b[0;34m\u001b[0m\u001b[0m\n\u001b[0m\u001b[1;32m      5\u001b[0m         \u001b[0;32mfrom\u001b[0m \u001b[0msklearn\u001b[0m\u001b[0;34m.\u001b[0m\u001b[0mcluster\u001b[0m \u001b[0;32mimport\u001b[0m \u001b[0mKMeans\u001b[0m\u001b[0;34m\u001b[0m\u001b[0;34m\u001b[0m\u001b[0m\n\u001b[1;32m      6\u001b[0m         \u001b[0;32mfrom\u001b[0m \u001b[0msklearn\u001b[0m\u001b[0;34m.\u001b[0m\u001b[0mdecomposition\u001b[0m \u001b[0;32mimport\u001b[0m \u001b[0mPCA\u001b[0m\u001b[0;34m\u001b[0m\u001b[0;34m\u001b[0m\u001b[0m\n",
            "\u001b[0;31mModuleNotFoundError\u001b[0m: No module named 'efficientnet_pytorch'",
            "",
            "\u001b[0;31m---------------------------------------------------------------------------\u001b[0;32m\nNOTE: If your import is failing due to a missing package, you can\nmanually install dependencies using either !pip or !apt.\n\nTo view examples of installing some common dependencies, click the\n\"Open Examples\" button below.\n\u001b[0;31m---------------------------------------------------------------------------\u001b[0m\n"
          ]
        }
      ]
    },
    {
      "cell_type": "code",
      "metadata": {
        "colab": {
          "base_uri": "https://localhost:8080/",
          "height": 124,
          "referenced_widgets": [
            "982b7d722f9243cd8671aad4b5ec1911",
            "6f54a0fd2fbc4b4aade923ff21bd3113",
            "598e0e8f785943ee8a1bc036c46c83e0",
            "55956527d5554707aa7d924a36081554",
            "0b69f7b417494de9988892ce9c49b0fb",
            "9893bf62d72148c38574ec58c7894cbe",
            "9ec9c9a846d0472d923f2a30053dd328",
            "c22884e05e004f6aae5b36279d9adf77"
          ]
        },
        "id": "LZoYgYZct3fN",
        "outputId": "91d3925b-f993-4b53-c302-30ed3f9c67f8"
      },
      "source": [
        "from efficientnet_pytorch import EfficientNet\n",
        "import torch\n",
        "effi_model = EfficientNet.from_pretrained('efficientnet-b0')\n",
        "model_path = '/content/drive/MyDrive/skku_Clustering/torch_model/'\n",
        "torch.save(effi_model.state_dict(), model_path + 'efficient.pt')\n"
      ],
      "execution_count": 7,
      "outputs": [
        {
          "output_type": "stream",
          "text": [
            "Downloading: \"https://github.com/lukemelas/EfficientNet-PyTorch/releases/download/1.0/efficientnet-b0-355c32eb.pth\" to /root/.cache/torch/hub/checkpoints/efficientnet-b0-355c32eb.pth\n"
          ],
          "name": "stderr"
        },
        {
          "output_type": "display_data",
          "data": {
            "application/vnd.jupyter.widget-view+json": {
              "model_id": "982b7d722f9243cd8671aad4b5ec1911",
              "version_minor": 0,
              "version_major": 2
            },
            "text/plain": [
              "HBox(children=(FloatProgress(value=0.0, max=21388428.0), HTML(value='')))"
            ]
          },
          "metadata": {
            "tags": []
          }
        },
        {
          "output_type": "stream",
          "text": [
            "\n",
            "Loaded pretrained weights for efficientnet-b0\n"
          ],
          "name": "stdout"
        }
      ]
    },
    {
      "cell_type": "code",
      "metadata": {
        "id": "cYswv0Gvui06"
      },
      "source": [
        "torch.save(model, model_path + 'plz.pt')"
      ],
      "execution_count": null,
      "outputs": []
    },
    {
      "cell_type": "code",
      "metadata": {
        "colab": {
          "base_uri": "https://localhost:8080/",
          "height": 110
        },
        "id": "A-P6mYVDu97Q",
        "outputId": "7b50a70d-022d-4cea-e10f-ca21231e53b2"
      },
      "source": [
        "import torch\n",
        "a = torch.load('/content/drive/MyDrive/skku_Clustering/torch_model/plz.pt')\n",
        "a.eval()\n",
        "a('/content/drive/MyDrive/skku_Clustering/test_set/cloud/test_cloud_1.jpg')"
      ],
      "execution_count": 7,
      "outputs": [
        {
          "output_type": "stream",
          "text": [
            "forward\n"
          ],
          "name": "stdout"
        },
        {
          "output_type": "display_data",
          "data": {
            "image/png": "[encoded data removed]",
            "text/plain": [
              "<Figure size 432x288 with 6 Axes>"
            ]
          },
          "metadata": {
            "tags": [],
            "needs_background": "light"
          }
        }
      ]
    },
    {
      "cell_type": "code",
      "metadata": {
        "colab": {
          "base_uri": "https://localhost:8080/",
          "height": 209
        },
        "id": "oQrltXq_2HcE",
        "outputId": "6cdc4f60-8b74-4319-adad-1a22acc0c681"
      },
      "source": [
        "# import torch\n",
        "model = torch.load_state_dict('/content/drive/MyDrive/skku_Clustering/torch_model/efficient.pt')\n",
        "res = a('/content/drive/MyDrive/skku_Clustering/test_set/cloud/test_cloud_1.jpg')"
      ],
      "execution_count": 8,
      "outputs": [
        {
          "output_type": "error",
          "ename": "AttributeError",
          "evalue": "ignored",
          "traceback": [
            "\u001b[0;31m---------------------------------------------------------------------------\u001b[0m",
            "\u001b[0;31mAttributeError\u001b[0m                            Traceback (most recent call last)",
            "\u001b[0;32m<ipython-input-8-fe24511eac0f>\u001b[0m in \u001b[0;36m<module>\u001b[0;34m()\u001b[0m\n\u001b[1;32m      1\u001b[0m \u001b[0;31m# import torch\u001b[0m\u001b[0;34m\u001b[0m\u001b[0;34m\u001b[0m\u001b[0;34m\u001b[0m\u001b[0m\n\u001b[0;32m----> 2\u001b[0;31m \u001b[0ma\u001b[0m \u001b[0;34m=\u001b[0m \u001b[0mtorch\u001b[0m\u001b[0;34m.\u001b[0m\u001b[0mload_state_dict\u001b[0m\u001b[0;34m(\u001b[0m\u001b[0;34m'/content/drive/MyDrive/skku_Clustering/torch_model/efficient.pt'\u001b[0m\u001b[0;34m)\u001b[0m\u001b[0;34m\u001b[0m\u001b[0;34m\u001b[0m\u001b[0m\n\u001b[0m\u001b[1;32m      3\u001b[0m \u001b[0mres\u001b[0m \u001b[0;34m=\u001b[0m \u001b[0ma\u001b[0m\u001b[0;34m(\u001b[0m\u001b[0;34m'/content/drive/MyDrive/skku_Clustering/test_set/cloud/test_cloud_1.jpg'\u001b[0m\u001b[0;34m)\u001b[0m\u001b[0;34m\u001b[0m\u001b[0;34m\u001b[0m\u001b[0m\n",
            "\u001b[0;31mAttributeError\u001b[0m: module 'torch' has no attribute 'load_state_dict'"
          ]
        }
      ]
    }
  ]
}