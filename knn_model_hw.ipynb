{
  "nbformat": 4,
  "nbformat_minor": 0,
  "metadata": {
    "colab": {
      "name": "knn_model_hw.ipynb",
      "provenance": [],
      "collapsed_sections": [],
      "mount_file_id": "1oPq9FRHiBXkMDEiv2rwahmoRddGa53Wi",
      "authorship_tag": "ABX9TyNhrznqjSnBP34hgkbmjxiK",
      "include_colab_link": true
    },
    "kernelspec": {
      "name": "python3",
      "display_name": "Python 3"
    },
    "language_info": {
      "name": "python"
    }
  },
  "cells": [
    {
      "cell_type": "markdown",
      "metadata": {
        "id": "view-in-github",
        "colab_type": "text"
      },
      "source": [
        "<a href=\"https://colab.research.google.com/github/22222bh/SketchTogether/blob/user%2FByeonghyeon/knn_model_hw.ipynb\" target=\"_parent\"><img src=\"https://colab.research.google.com/assets/colab-badge.svg\" alt=\"Open In Colab\"/></a>"
      ]
    },
    {
      "cell_type": "code",
      "metadata": {
        "colab": {
          "base_uri": "https://localhost:8080/"
        },
        "id": "4znoWoskWovx",
        "outputId": "7aea43b9-726d-48ae-b599-46df896cec58"
      },
      "source": [
        "!pip install efficientnet_pytorch"
      ],
      "execution_count": 1,
      "outputs": [
        {
          "output_type": "stream",
          "text": [
            "Collecting efficientnet_pytorch\n",
            "  Downloading efficientnet_pytorch-0.7.1.tar.gz (21 kB)\n",
            "Requirement already satisfied: torch in /usr/local/lib/python3.7/dist-packages (from efficientnet_pytorch) (1.9.0+cu102)\n",
            "Requirement already satisfied: typing-extensions in /usr/local/lib/python3.7/dist-packages (from torch->efficientnet_pytorch) (3.7.4.3)\n",
            "Building wheels for collected packages: efficientnet-pytorch\n",
            "  Building wheel for efficientnet-pytorch (setup.py) ... \u001b[?25l\u001b[?25hdone\n",
            "  Created wheel for efficientnet-pytorch: filename=efficientnet_pytorch-0.7.1-py3-none-any.whl size=16446 sha256=3bec7a9487a52df3cb50d27b78c5b3344cb73c25f47f91d3c717d0052ee65602\n",
            "  Stored in directory: /root/.cache/pip/wheels/0e/cc/b2/49e74588263573ff778da58cc99b9c6349b496636a7e165be6\n",
            "Successfully built efficientnet-pytorch\n",
            "Installing collected packages: efficientnet-pytorch\n",
            "Successfully installed efficientnet-pytorch-0.7.1\n"
          ],
          "name": "stdout"
        }
      ]
    },
    {
      "cell_type": "code",
      "metadata": {
        "id": "6_iUvnzmWsSf"
      },
      "source": [
        "from torch import nn"
      ],
      "execution_count": 2,
      "outputs": []
    },
    {
      "cell_type": "code",
      "metadata": {
        "id": "XO8UlBm4WtXs"
      },
      "source": [
        "class knnModel(nn.Module):\n",
        "    def __init__(self):\n",
        "        super(knnModel, self).__init__()\n",
        "        from efficientnet_pytorch import EfficientNet\n",
        "        from sklearn.cluster import KMeans\n",
        "        from sklearn.decomposition import PCA\n",
        "        # from keras.applications.vgg16 import VGG16 \n",
        "        # from keras.models import Model\n",
        "        # from keras.applications.vgg16 import preprocess_input \n",
        "        import os\n",
        "        import logging\n",
        "        import torch\n",
        "        from torch import nn\n",
        "        import pickle\n",
        "        from tqdm import tqdm\n",
        "        from torchvision import transforms\n",
        "        import numpy as np\n",
        "        import pandas as pd\n",
        "        \n",
        "\n",
        "        print('init')\n",
        "        self.feat_path = \"/content/drive/MyDrive/skku_Clustering/features_hw_filtered_10.npy\"\n",
        "        self.filename_path = \"/content/drive/MyDrive/skku_Clustering/filenames_hw_filtered_10.npy\"\n",
        "        self.feat = np.load(self.feat_path)\n",
        "        self.filenames = np.load(self.filename_path)\n",
        "        #transform\n",
        "        self.tfms = transforms.Compose([transforms.Resize(224), transforms.ToTensor(),\n",
        "            transforms.Normalize([0.485, 0.456, 0.406], [0.229, 0.224, 0.225]),])\n",
        "        self.pooling = nn.AdaptiveAvgPool2d(1)\n",
        "\n",
        "        # self.effi_model = EfficientNet.from_pretrained('efficientnet-b0')\n",
        "        self.effi_model = torch.load('/content/drive/MyDrive/Sketch_RNN/skku_Clustering/torch_model/efficient.pt')\n",
        "  \n",
        "    def forward(self, input):\n",
        "      print('forward')\n",
        "      from PIL import Image\n",
        "      import numpy as np\n",
        "      from sklearn.manifold import TSNE\n",
        "      from sklearn.neighbors import NearestNeighbors\n",
        "      import matplotlib.pyplot as plt\n",
        "      def feature_extraction(image, model):\n",
        "          img = self.tfms(Image.open(image).convert(\"RGB\")).unsqueeze(0)\n",
        "          feature = model.extract_features(img)\n",
        "          features = self.pooling(feature)\n",
        "          return features\n",
        "      \n",
        "      new_data = {}\n",
        "      \n",
        "      new_feat = feature_extraction(input, self.effi_model)\n",
        "      new_feat = new_feat.detach().numpy().reshape(-1)\n",
        "      new_data[input] = (new_feat)\n",
        "      \n",
        "      self.feat = np.append(self.feat, np.array(list(new_data.values())), axis = 0)\n",
        "      self.filenames = np.append(self.filenames, np.array(list(new_data.keys())), axis = 0)\n",
        "      tsne = TSNE(n_components=2, init='pca', random_state=0)\n",
        "      x = tsne.fit_transform(self.feat)\n",
        "\n",
        "      knn = NearestNeighbors(n_neighbors=6, algorithm='auto').fit(x)\n",
        "      distances, indices = knn.kneighbors([list(x[-1])])\n",
        "\n",
        "      image = []\n",
        "      name = []\n",
        "      recommend_list = []\n",
        "      data_path = '/content/drive/MyDrive/Sketch_RNN/Dataset/Filtered_img/'\n",
        "      for i, idx in enumerate(indices[0]):\n",
        "        if self.filenames[idx].startswith('/'):\n",
        "          image.append(np.array(Image.open(self.filenames[idx])))\n",
        "          name.append(self.filenames[idx].split('/')[-1].split('.')[0])\n",
        "          \n",
        "        else:\n",
        "          image.append(np.array(Image.open(data_path + self.filenames[idx].split('_')[0] + '/' + self.filenames[idx] + '.jpg'))) # 코랩용\n",
        "          # image.append(np.array(Image.open(data_path + '/' + self.filenames[idx] + '.jpg'))) # 안스용\n",
        "          name.append(self.filenames[idx].split('/')[-1].split('.')[0])\n",
        "        recommend_list.append(self.filenames[idx])\n",
        "\n",
        "      for i, img in enumerate(image):\n",
        "        plt.subplot(1,6,i+1)\n",
        "        plt.title(name[i])\n",
        "        plt.imshow(img, 'gray')\n",
        "\n",
        "      plt.tight_layout()\n",
        "      plt.show()\n",
        "      return recommend_list"
      ],
      "execution_count": 8,
      "outputs": []
    },
    {
      "cell_type": "markdown",
      "metadata": {
        "id": "wsT2ADaQC6Cf"
      },
      "source": [
        "테스트 1회 및 모델 저장"
      ]
    },
    {
      "cell_type": "code",
      "metadata": {
        "id": "D52Xu0TtZgrv"
      },
      "source": [
        "import torch\n",
        "model = knnModel()\n",
        "model.eval()\n",
        "recommend_list = model('/content/drive/MyDrive/skku_Clustering/test_set/cloud/test_cloud_1.jpg')\n",
        "torch.save(model.state_dict(), model_path + 'knnmodel.pt')\n",
        "# torch.save(model, model_path + 'knnmodel.pt')"
      ],
      "execution_count": null,
      "outputs": []
    },
    {
      "cell_type": "markdown",
      "metadata": {
        "id": "NkRVDVOlEROR"
      },
      "source": [
        "이피션트넷 저장"
      ]
    },
    {
      "cell_type": "code",
      "metadata": {
        "id": "LZoYgYZct3fN"
      },
      "source": [
        "from efficientnet_pytorch import EfficientNet\n",
        "import torch\n",
        "effi_model = EfficientNet.from_pretrained('efficientnet-b0')\n",
        "model_path = '/content/drive/MyDrive/skku_Clustering/torch_model/'\n",
        "torch.save(effi_model.state_dict(), model_path + 'efficient.pt')\n"
      ],
      "execution_count": null,
      "outputs": []
    },
    {
      "cell_type": "markdown",
      "metadata": {
        "id": "X8CxOjKfEhi5"
      },
      "source": [
        "모델 로드해서 테스트"
      ]
    },
    {
      "cell_type": "code",
      "metadata": {
        "colab": {
          "base_uri": "https://localhost:8080/",
          "height": 110
        },
        "id": "A-P6mYVDu97Q",
        "outputId": "7b50a70d-022d-4cea-e10f-ca21231e53b2"
      },
      "source": [
        "import torch\n",
        "a = torch.load('/content/drive/MyDrive/skku_Clustering/torch_model/plz.pt')\n",
        "a.eval()\n",
        "res = a('/content/drive/MyDrive/skku_Clustering/test_set/cloud/test_cloud_1.jpg')\n",
        "print(res)"
      ],
      "execution_count": null,
      "outputs": [
        {
          "output_type": "stream",
          "text": [
            "forward\n"
          ],
          "name": "stdout"
        },
        {
          "output_type": "display_data",
          "data": {
            "image/png": "[encoded data removed]",
            "text/plain": [
              "<Figure size 432x288 with 6 Axes>"
            ]
          },
          "metadata": {
            "tags": [],
            "needs_background": "light"
          }
        }
      ]
    }
  ]
}