{
  "nbformat": 4,
  "nbformat_minor": 0,
  "metadata": {
    "colab": {
      "name": "knn_model_hw.ipynb",
      "provenance": [],
      "mount_file_id": "1oPq9FRHiBXkMDEiv2rwahmoRddGa53Wi",
      "authorship_tag": "ABX9TyPWL4YEHDkecvqgJlbWUgfi",
      "include_colab_link": true
    },
    "kernelspec": {
      "name": "python3",
      "display_name": "Python 3"
    },
    "language_info": {
      "name": "python"
    }
  },
  "cells": [
    {
      "cell_type": "markdown",
      "metadata": {
        "id": "view-in-github",
        "colab_type": "text"
      },
      "source": [
        "<a href=\"https://colab.research.google.com/github/22222bh/SketchTogether/blob/user%2FByeonghyeon/knn_model_hw.ipynb\" target=\"_parent\"><img src=\"https://colab.research.google.com/assets/colab-badge.svg\" alt=\"Open In Colab\"/></a>"
      ]
    },
    {
      "cell_type": "code",
      "metadata": {
        "colab": {
          "base_uri": "https://localhost:8080/"
        },
        "id": "4znoWoskWovx",
        "outputId": "f8dc9596-6787-455c-90b3-a9ae930459e5"
      },
      "source": [
        "!pip install efficientnet_pytorch"
      ],
      "execution_count": 6,
      "outputs": [
        {
          "output_type": "stream",
          "text": [
            "Collecting efficientnet_pytorch\n",
            "  Downloading efficientnet_pytorch-0.7.1.tar.gz (21 kB)\n",
            "Requirement already satisfied: torch in /usr/local/lib/python3.7/dist-packages (from efficientnet_pytorch) (1.9.0+cu102)\n",
            "Requirement already satisfied: typing-extensions in /usr/local/lib/python3.7/dist-packages (from torch->efficientnet_pytorch) (3.7.4.3)\n",
            "Building wheels for collected packages: efficientnet-pytorch\n",
            "  Building wheel for efficientnet-pytorch (setup.py) ... \u001b[?25l\u001b[?25hdone\n",
            "  Created wheel for efficientnet-pytorch: filename=efficientnet_pytorch-0.7.1-py3-none-any.whl size=16446 sha256=08dcf6f87528bd048fbceed8c2b11f18a70066f487735baf9db56f293bcacc7a\n",
            "  Stored in directory: /root/.cache/pip/wheels/0e/cc/b2/49e74588263573ff778da58cc99b9c6349b496636a7e165be6\n",
            "Successfully built efficientnet-pytorch\n",
            "Installing collected packages: efficientnet-pytorch\n",
            "Successfully installed efficientnet-pytorch-0.7.1\n"
          ],
          "name": "stdout"
        }
      ]
    },
    {
      "cell_type": "code",
      "metadata": {
        "id": "6_iUvnzmWsSf"
      },
      "source": [
        "from torch import nn"
      ],
      "execution_count": 1,
      "outputs": []
    },
    {
      "cell_type": "code",
      "metadata": {
        "id": "XO8UlBm4WtXs"
      },
      "source": [
        "class knnModel(nn.Module):\n",
        "\n",
        "    def __init__(self):\n",
        "        super(knnModel, self).__init__()\n",
        "        from efficientnet_pytorch import EfficientNet\n",
        "        from sklearn.cluster import KMeans\n",
        "        from sklearn.decomposition import PCA\n",
        "        # from keras.applications.vgg16 import VGG16 \n",
        "        # from keras.models import Model\n",
        "        # from keras.applications.vgg16 import preprocess_input \n",
        "        import os\n",
        "        import logging\n",
        "        import torch\n",
        "        from torch import nn\n",
        "        import pickle\n",
        "        from tqdm import tqdm\n",
        "        from torchvision import transforms\n",
        "        import numpy as np\n",
        "        import pandas as pd\n",
        "        \n",
        "\n",
        "        print('init')\n",
        "        self.feat_path = \"/content/drive/MyDrive/skku_Clustering/features_hw_filtered_10.npy\"\n",
        "        self.filename_path = \"/content/drive/MyDrive/skku_Clustering/filenames_hw_filtered_10.npy\"\n",
        "        self.feat = np.load(self.feat_path)\n",
        "        self.filenames = np.load(self.filename_path)\n",
        "        #transform\n",
        "        self.tfms = transforms.Compose([transforms.Resize(224), transforms.ToTensor(),\n",
        "            transforms.Normalize([0.485, 0.456, 0.406], [0.229, 0.224, 0.225]),])\n",
        "        self.pooling = nn.AdaptiveAvgPool2d(1)\n",
        "\n",
        "        # self.effi_model = EfficientNet.from_pretrained('efficientnet-b0')\n",
        "        self.effi_model = torch.load('/content/drive/MyDrive/Sketch_RNN/skku_Clustering/torch_model/efficient.pt')\n",
        "  \n",
        "    def forward(self, input):\n",
        "      print('forward')\n",
        "      from PIL import Image\n",
        "      import numpy as np\n",
        "      from sklearn.manifold import TSNE\n",
        "      from sklearn.neighbors import NearestNeighbors\n",
        "      import matplotlib.pyplot as plt\n",
        "      def feature_extraction(image, model):\n",
        "          img = self.tfms(Image.open(image).convert(\"RGB\")).unsqueeze(0)\n",
        "          feature = model.extract_features(img)\n",
        "          features = self.pooling(feature)\n",
        "          return features\n",
        "      \n",
        "      new_data = {}\n",
        "      \n",
        "      new_feat = feature_extraction(input, self.effi_model)\n",
        "      new_feat = new_feat.detach().numpy().reshape(-1)\n",
        "      new_data[input] = (new_feat)\n",
        "      \n",
        "      self.feat = np.append(self.feat, np.array(list(new_data.values())), axis = 0)\n",
        "      self.filenames = np.append(self.filenames, np.array(list(new_data.keys())), axis = 0)\n",
        "      tsne = TSNE(n_components=2, init='pca', random_state=0)\n",
        "      x = tsne.fit_transform(self.feat)\n",
        "\n",
        "      knn = NearestNeighbors(n_neighbors=6, algorithm='auto').fit(x)\n",
        "      distances, indices = knn.kneighbors([list(x[-1])])\n",
        "\n",
        "      image = []\n",
        "      name = []\n",
        "      data_path = '/content/drive/MyDrive/Sketch_RNN/Dataset/Filtered_img/'\n",
        "      for i, idx in enumerate(indices[0]):\n",
        "        if self.filenames[idx].startswith('/'):\n",
        "          image.append(np.array(Image.open(self.filenames[idx])))\n",
        "          name.append(self.filenames[idx].split('/')[-1].split('.')[0])\n",
        "        else:\n",
        "          image.append(np.array(Image.open(data_path + self.filenames[idx].split('_')[0] + '/' + self.filenames[idx] + '.jpg'))) # 코랩용\n",
        "          # image.append(np.array(Image.open(data_path + '/' + self.filenames[idx] + '.jpg'))) # 안스용\n",
        "          name.append(self.filenames[idx].split('/')[-1].split('.')[0])\n",
        "\n",
        "      for i, img in enumerate(image):\n",
        "        plt.subplot(1,6,i+1)\n",
        "        plt.title(name[i])\n",
        "        plt.imshow(img, 'gray')\n",
        "\n",
        "      plt.tight_layout()\n",
        "      plt.show()"
      ],
      "execution_count": 3,
      "outputs": []
    },
    {
      "cell_type": "code",
      "metadata": {
        "id": "d4iAiTzgp97B"
      },
      "source": [
        "model('/content/drive/MyDrive/skku_Clustering/test_set/cloud/test_cloud_1.jpg')"
      ],
      "execution_count": null,
      "outputs": []
    },
    {
      "cell_type": "code",
      "metadata": {
        "colab": {
          "base_uri": "https://localhost:8080/",
          "height": 344
        },
        "id": "D52Xu0TtZgrv",
        "outputId": "43160e2f-9673-4e0d-d929-2aff6aceef96"
      },
      "source": [
        "model = knnModel()\n",
        "model.eval()\n",
        "model('/content/drive/MyDrive/skku_Clustering/test_set/cloud/test_cloud_1.jpg')\n",
        "torch.save(model, model_path + 'plz.pt')"
      ],
      "execution_count": null,
      "outputs": [
        {
          "output_type": "stream",
          "text": [
            "init\n",
            "forward\n",
            "top607\n",
            "/content/drive/MyDrive/skku_Clustering/test_set/cloud/test_cloud_1.jpg\n",
            "329\n",
            "nose_14\n",
            "346\n",
            "nose_31\n",
            "359\n",
            "nose_44\n",
            "334\n",
            "nose_19\n",
            "342\n",
            "nose_27\n"
          ],
          "name": "stdout"
        },
        {
          "output_type": "display_data",
          "data": {
            "image/png": "[encoded data removed]",
            "text/plain": [
              "<Figure size 432x288 with 6 Axes>"
            ]
          },
          "metadata": {
            "tags": [],
            "needs_background": "light"
          }
        }
      ]
    },
    {
      "cell_type": "code",
      "metadata": {
        "colab": {
          "base_uri": "https://localhost:8080/",
          "height": 391
        },
        "id": "LZoYgYZct3fN",
        "outputId": "0c0defb1-0b15-4210-a244-ec9c899ce6ad"
      },
      "source": [
        "from efficientnet_pytorch import EfficientNet\n",
        "import torch\n",
        "effi_model = EfficientNet.from_pretrained('efficientnet-b0')\n",
        "model_path = '/content/drive/MyDrive/skku_Clustering/torch_model/'\n",
        "torch.save(effi_model, model_path + 'efficient.pt')\n"
      ],
      "execution_count": 4,
      "outputs": [
        {
          "output_type": "error",
          "ename": "ModuleNotFoundError",
          "evalue": "ignored",
          "traceback": [
            "\u001b[0;31m---------------------------------------------------------------------------\u001b[0m",
            "\u001b[0;31mModuleNotFoundError\u001b[0m                       Traceback (most recent call last)",
            "\u001b[0;32m<ipython-input-4-8d2a928ae05b>\u001b[0m in \u001b[0;36m<module>\u001b[0;34m()\u001b[0m\n\u001b[0;32m----> 1\u001b[0;31m \u001b[0;32mfrom\u001b[0m \u001b[0mefficientnet_pytorch\u001b[0m \u001b[0;32mimport\u001b[0m \u001b[0mEfficientNet\u001b[0m\u001b[0;34m\u001b[0m\u001b[0;34m\u001b[0m\u001b[0m\n\u001b[0m\u001b[1;32m      2\u001b[0m \u001b[0;32mimport\u001b[0m \u001b[0mtorch\u001b[0m\u001b[0;34m\u001b[0m\u001b[0;34m\u001b[0m\u001b[0m\n\u001b[1;32m      3\u001b[0m \u001b[0meffi_model\u001b[0m \u001b[0;34m=\u001b[0m \u001b[0mEfficientNet\u001b[0m\u001b[0;34m.\u001b[0m\u001b[0mfrom_pretrained\u001b[0m\u001b[0;34m(\u001b[0m\u001b[0;34m'efficientnet-b0'\u001b[0m\u001b[0;34m)\u001b[0m\u001b[0;34m\u001b[0m\u001b[0;34m\u001b[0m\u001b[0m\n\u001b[1;32m      4\u001b[0m \u001b[0mmodel_path\u001b[0m \u001b[0;34m=\u001b[0m \u001b[0;34m'/content/drive/MyDrive/skku_Clustering/torch_model/'\u001b[0m\u001b[0;34m\u001b[0m\u001b[0;34m\u001b[0m\u001b[0m\n\u001b[1;32m      5\u001b[0m \u001b[0mtorch\u001b[0m\u001b[0;34m.\u001b[0m\u001b[0msave\u001b[0m\u001b[0;34m(\u001b[0m\u001b[0meffi_model\u001b[0m\u001b[0;34m,\u001b[0m \u001b[0mmodel_path\u001b[0m \u001b[0;34m+\u001b[0m \u001b[0;34m'efficient.pt'\u001b[0m\u001b[0;34m)\u001b[0m\u001b[0;34m\u001b[0m\u001b[0;34m\u001b[0m\u001b[0m\n",
            "\u001b[0;31mModuleNotFoundError\u001b[0m: No module named 'efficientnet_pytorch'",
            "",
            "\u001b[0;31m---------------------------------------------------------------------------\u001b[0;32m\nNOTE: If your import is failing due to a missing package, you can\nmanually install dependencies using either !pip or !apt.\n\nTo view examples of installing some common dependencies, click the\n\"Open Examples\" button below.\n\u001b[0;31m---------------------------------------------------------------------------\u001b[0m\n"
          ]
        }
      ]
    },
    {
      "cell_type": "code",
      "metadata": {
        "id": "cYswv0Gvui06"
      },
      "source": [
        "torch.save(model, model_path + 'plz.pt')"
      ],
      "execution_count": null,
      "outputs": []
    },
    {
      "cell_type": "code",
      "metadata": {
        "colab": {
          "base_uri": "https://localhost:8080/",
          "height": 110
        },
        "id": "A-P6mYVDu97Q",
        "outputId": "7b50a70d-022d-4cea-e10f-ca21231e53b2"
      },
      "source": [
        "import torch\n",
        "a = torch.load('/content/drive/MyDrive/skku_Clustering/torch_model/plz.pt')\n",
        "a.eval()\n",
        "a('/content/drive/MyDrive/skku_Clustering/test_set/cloud/test_cloud_1.jpg')"
      ],
      "execution_count": 7,
      "outputs": [
        {
          "output_type": "stream",
          "text": [
            "forward\n"
          ],
          "name": "stdout"
        },
        {
          "output_type": "display_data",
          "data": {
            "image/png": "[encoded data removed]",
            "text/plain": [
              "<Figure size 432x288 with 6 Axes>"
            ]
          },
          "metadata": {
            "tags": [],
            "needs_background": "light"
          }
        }
      ]
    }
  ]
}