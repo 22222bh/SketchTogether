{
  "nbformat": 4,
  "nbformat_minor": 0,
  "metadata": {
    "colab": {
      "name": "sketch_clustering.ipynb",
      "provenance": [],
      "collapsed_sections": []
    },
    "kernelspec": {
      "name": "python3",
      "display_name": "Python 3"
    },
    "language_info": {
      "name": "python"
    },
    "accelerator": "GPU",
    "widgets": {
      "application/vnd.jupyter.widget-state+json": {
        "06ebec018e2443dab71e1f8e279f6874": {
          "model_module": "@jupyter-widgets/controls",
          "model_name": "HBoxModel",
          "state": {
            "_view_name": "HBoxView",
            "_dom_classes": [],
            "_model_name": "HBoxModel",
            "_view_module": "@jupyter-widgets/controls",
            "_model_module_version": "1.5.0",
            "_view_count": null,
            "_view_module_version": "1.5.0",
            "box_style": "",
            "layout": "IPY_MODEL_3b33b1d360d9478eabc62084e650d6ee",
            "_model_module": "@jupyter-widgets/controls",
            "children": [
              "IPY_MODEL_1baae5a391204b7598b76d8a01f0aa80",
              "IPY_MODEL_c3fd3068e8ca4e048ad91252b8943777"
            ]
          }
        },
        "3b33b1d360d9478eabc62084e650d6ee": {
          "model_module": "@jupyter-widgets/base",
          "model_name": "LayoutModel",
          "state": {
            "_view_name": "LayoutView",
            "grid_template_rows": null,
            "right": null,
            "justify_content": null,
            "_view_module": "@jupyter-widgets/base",
            "overflow": null,
            "_model_module_version": "1.2.0",
            "_view_count": null,
            "flex_flow": null,
            "width": null,
            "min_width": null,
            "border": null,
            "align_items": null,
            "bottom": null,
            "_model_module": "@jupyter-widgets/base",
            "top": null,
            "grid_column": null,
            "overflow_y": null,
            "overflow_x": null,
            "grid_auto_flow": null,
            "grid_area": null,
            "grid_template_columns": null,
            "flex": null,
            "_model_name": "LayoutModel",
            "justify_items": null,
            "grid_row": null,
            "max_height": null,
            "align_content": null,
            "visibility": null,
            "align_self": null,
            "height": null,
            "min_height": null,
            "padding": null,
            "grid_auto_rows": null,
            "grid_gap": null,
            "max_width": null,
            "order": null,
            "_view_module_version": "1.2.0",
            "grid_template_areas": null,
            "object_position": null,
            "object_fit": null,
            "grid_auto_columns": null,
            "margin": null,
            "display": null,
            "left": null
          }
        },
        "1baae5a391204b7598b76d8a01f0aa80": {
          "model_module": "@jupyter-widgets/controls",
          "model_name": "FloatProgressModel",
          "state": {
            "_view_name": "ProgressView",
            "style": "IPY_MODEL_d6074df265bc4260b816f2a1e277af52",
            "_dom_classes": [],
            "description": "100%",
            "_model_name": "FloatProgressModel",
            "bar_style": "success",
            "max": 21388428,
            "_view_module": "@jupyter-widgets/controls",
            "_model_module_version": "1.5.0",
            "value": 21388428,
            "_view_count": null,
            "_view_module_version": "1.5.0",
            "orientation": "horizontal",
            "min": 0,
            "description_tooltip": null,
            "_model_module": "@jupyter-widgets/controls",
            "layout": "IPY_MODEL_1915d3ca46f24de98faeb9e7f7c0259b"
          }
        },
        "c3fd3068e8ca4e048ad91252b8943777": {
          "model_module": "@jupyter-widgets/controls",
          "model_name": "HTMLModel",
          "state": {
            "_view_name": "HTMLView",
            "style": "IPY_MODEL_8704bda683ec4f3ea9c1e86d7fed94a4",
            "_dom_classes": [],
            "description": "",
            "_model_name": "HTMLModel",
            "placeholder": "​",
            "_view_module": "@jupyter-widgets/controls",
            "_model_module_version": "1.5.0",
            "value": " 20.4M/20.4M [05:04&lt;00:00, 70.2kB/s]",
            "_view_count": null,
            "_view_module_version": "1.5.0",
            "description_tooltip": null,
            "_model_module": "@jupyter-widgets/controls",
            "layout": "IPY_MODEL_0a05e5497c834bd1a69a31b54dfdd91c"
          }
        },
        "d6074df265bc4260b816f2a1e277af52": {
          "model_module": "@jupyter-widgets/controls",
          "model_name": "ProgressStyleModel",
          "state": {
            "_view_name": "StyleView",
            "_model_name": "ProgressStyleModel",
            "description_width": "initial",
            "_view_module": "@jupyter-widgets/base",
            "_model_module_version": "1.5.0",
            "_view_count": null,
            "_view_module_version": "1.2.0",
            "bar_color": null,
            "_model_module": "@jupyter-widgets/controls"
          }
        },
        "1915d3ca46f24de98faeb9e7f7c0259b": {
          "model_module": "@jupyter-widgets/base",
          "model_name": "LayoutModel",
          "state": {
            "_view_name": "LayoutView",
            "grid_template_rows": null,
            "right": null,
            "justify_content": null,
            "_view_module": "@jupyter-widgets/base",
            "overflow": null,
            "_model_module_version": "1.2.0",
            "_view_count": null,
            "flex_flow": null,
            "width": null,
            "min_width": null,
            "border": null,
            "align_items": null,
            "bottom": null,
            "_model_module": "@jupyter-widgets/base",
            "top": null,
            "grid_column": null,
            "overflow_y": null,
            "overflow_x": null,
            "grid_auto_flow": null,
            "grid_area": null,
            "grid_template_columns": null,
            "flex": null,
            "_model_name": "LayoutModel",
            "justify_items": null,
            "grid_row": null,
            "max_height": null,
            "align_content": null,
            "visibility": null,
            "align_self": null,
            "height": null,
            "min_height": null,
            "padding": null,
            "grid_auto_rows": null,
            "grid_gap": null,
            "max_width": null,
            "order": null,
            "_view_module_version": "1.2.0",
            "grid_template_areas": null,
            "object_position": null,
            "object_fit": null,
            "grid_auto_columns": null,
            "margin": null,
            "display": null,
            "left": null
          }
        },
        "8704bda683ec4f3ea9c1e86d7fed94a4": {
          "model_module": "@jupyter-widgets/controls",
          "model_name": "DescriptionStyleModel",
          "state": {
            "_view_name": "StyleView",
            "_model_name": "DescriptionStyleModel",
            "description_width": "",
            "_view_module": "@jupyter-widgets/base",
            "_model_module_version": "1.5.0",
            "_view_count": null,
            "_view_module_version": "1.2.0",
            "_model_module": "@jupyter-widgets/controls"
          }
        },
        "0a05e5497c834bd1a69a31b54dfdd91c": {
          "model_module": "@jupyter-widgets/base",
          "model_name": "LayoutModel",
          "state": {
            "_view_name": "LayoutView",
            "grid_template_rows": null,
            "right": null,
            "justify_content": null,
            "_view_module": "@jupyter-widgets/base",
            "overflow": null,
            "_model_module_version": "1.2.0",
            "_view_count": null,
            "flex_flow": null,
            "width": null,
            "min_width": null,
            "border": null,
            "align_items": null,
            "bottom": null,
            "_model_module": "@jupyter-widgets/base",
            "top": null,
            "grid_column": null,
            "overflow_y": null,
            "overflow_x": null,
            "grid_auto_flow": null,
            "grid_area": null,
            "grid_template_columns": null,
            "flex": null,
            "_model_name": "LayoutModel",
            "justify_items": null,
            "grid_row": null,
            "max_height": null,
            "align_content": null,
            "visibility": null,
            "align_self": null,
            "height": null,
            "min_height": null,
            "padding": null,
            "grid_auto_rows": null,
            "grid_gap": null,
            "max_width": null,
            "order": null,
            "_view_module_version": "1.2.0",
            "grid_template_areas": null,
            "object_position": null,
            "object_fit": null,
            "grid_auto_columns": null,
            "margin": null,
            "display": null,
            "left": null
          }
        }
      }
    }
  },
  "cells": [
    {
      "cell_type": "markdown",
      "metadata": {
        "id": "UTb2RneWn5dp"
      },
      "source": [
        "### 초기설정"
      ]
    },
    {
      "cell_type": "code",
      "metadata": {
        "id": "VWB08whFNasE",
        "colab": {
          "base_uri": "https://localhost:8080/"
        },
        "outputId": "c05dbd37-aba9-4c44-c812-c736d21f8807"
      },
      "source": [
        "!pip install efficientnet_pytorch"
      ],
      "execution_count": 4,
      "outputs": [
        {
          "output_type": "stream",
          "text": [
            "Collecting efficientnet_pytorch\n",
            "  Downloading https://files.pythonhosted.org/packages/2e/a0/dd40b50aebf0028054b6b35062948da01123d7be38d08b6b1e5435df6363/efficientnet_pytorch-0.7.1.tar.gz\n",
            "Requirement already satisfied: torch in /usr/local/lib/python3.7/dist-packages (from efficientnet_pytorch) (1.9.0+cu102)\n",
            "Requirement already satisfied: typing-extensions in /usr/local/lib/python3.7/dist-packages (from torch->efficientnet_pytorch) (3.7.4.3)\n",
            "Building wheels for collected packages: efficientnet-pytorch\n",
            "  Building wheel for efficientnet-pytorch (setup.py) ... \u001b[?25l\u001b[?25hdone\n",
            "  Created wheel for efficientnet-pytorch: filename=efficientnet_pytorch-0.7.1-cp37-none-any.whl size=16443 sha256=7fecb35bbb4fedda67e80cb78c8373ef4bba8fb380f8fc69c8c5d12382250900\n",
            "  Stored in directory: /root/.cache/pip/wheels/84/27/aa/c46d23c4e8cc72d41283862b1437e0b3ad318417e8ed7d5921\n",
            "Successfully built efficientnet-pytorch\n",
            "Installing collected packages: efficientnet-pytorch\n",
            "Successfully installed efficientnet-pytorch-0.7.1\n"
          ],
          "name": "stdout"
        }
      ]
    },
    {
      "cell_type": "code",
      "metadata": {
        "id": "T-YX_2ITJajI"
      },
      "source": [
        "from efficientnet_pytorch import EfficientNet\n",
        "from sklearn.cluster import KMeans\n",
        "from sklearn.decomposition import PCA\n",
        "# from keras.applications.vgg16 import VGG16 \n",
        "# from keras.models import Model\n",
        "# from keras.applications.vgg16 import preprocess_input \n",
        "import os\n",
        "import logging\n",
        "import torch\n",
        "import pickle\n",
        "from tqdm import tqdm\n",
        "from torchvision import transforms\n",
        "import numpy as np\n",
        "import pandas as pd\n",
        "from PIL import Image\n",
        "import matplotlib.pyplot as plt"
      ],
      "execution_count": 5,
      "outputs": []
    },
    {
      "cell_type": "code",
      "metadata": {
        "id": "XYnJ5cW0n2Zq"
      },
      "source": [
        "#dataset path\n",
        "data_path = '/content/drive/MyDrive/Colab/Sketch_RNN/torch_sketch/test/'\n",
        "#cluster_list.txt path\n",
        "cluster_list_path = '/content/drive/MyDrive/Colab/Sketch_RNN/torch_sketch/cluster_list.txt'\n",
        "#feature path\n",
        "feat_path = \"/content/drive/MyDrive/Colab/Sketch_RNN/torch_sketch/features.npy\"\n",
        "#filename path\n",
        "filename_path = \"/content/drive/MyDrive/Colab/Sketch_RNN/torch_sketch/filenames.npy\"\n",
        "\n",
        "# p = r\"/content/drive/MyDrive/Colab/Sketch_RNN/torch_sketch/sktch_log.pkl\""
      ],
      "execution_count": 6,
      "outputs": []
    },
    {
      "cell_type": "code",
      "metadata": {
        "id": "aMgSx0PXJenF"
      },
      "source": [
        "#make data_list : .npy files\n",
        "os.chdir(data_path)\n",
        "data_list = []\n",
        "with os.scandir(data_path) as files:\n",
        "    for file in files:\n",
        "        if file.name.endswith('.npy'):\n",
        "            data_list.append(file.name)\n",
        "#make cluster_list : cluster label name files\n",
        "cluster_list = open(cluster_list_path , 'r').read().split('\\n')           "
      ],
      "execution_count": 7,
      "outputs": []
    },
    {
      "cell_type": "markdown",
      "metadata": {
        "id": "wLvUDAarsEIv"
      },
      "source": [
        "### Feature Extraction"
      ]
    },
    {
      "cell_type": "code",
      "metadata": {
        "id": "IjCYRALgNNGN",
        "cellView": "code"
      },
      "source": [
        "#transform\n",
        "tfms = transforms.Compose([transforms.Resize(224), transforms.ToTensor(),\n",
        "    transforms.Normalize([0.485, 0.456, 0.406], [0.229, 0.224, 0.225]),])\n",
        "\n",
        "def feature_extraction(image, model):\n",
        "    img = tfms(Image.fromarray(image.reshape(28,28)).convert(\"RGB\")).unsqueeze(0)\n",
        "    features = model.extract_features(img)\n",
        "    return features"
      ],
      "execution_count": 11,
      "outputs": []
    },
    {
      "cell_type": "code",
      "metadata": {
        "id": "A1adKg0aJ15K",
        "colab": {
          "base_uri": "https://localhost:8080/",
          "height": 121,
          "referenced_widgets": [
            "06ebec018e2443dab71e1f8e279f6874",
            "3b33b1d360d9478eabc62084e650d6ee",
            "1baae5a391204b7598b76d8a01f0aa80",
            "c3fd3068e8ca4e048ad91252b8943777",
            "d6074df265bc4260b816f2a1e277af52",
            "1915d3ca46f24de98faeb9e7f7c0259b",
            "8704bda683ec4f3ea9c1e86d7fed94a4",
            "0a05e5497c834bd1a69a31b54dfdd91c"
          ]
        },
        "outputId": "0abdc317-f52b-4950-efc9-1933d4b979f2"
      },
      "source": [
        "#efficientNet\n",
        "#feature extraction\n",
        "model = EfficientNet.from_pretrained('efficientnet-b0')\n",
        "data = {}\n",
        "for npy in tqdm(data_list):\n",
        "    image_list = np.load(npy)\n",
        "    for i, image in enumerate(image_list[:1000]):\n",
        "      # try:\n",
        "        feat = feature_extraction(image, model)\n",
        "        feat = feat.detach().numpy().reshape(-1)\n",
        "        name = npy.split('.')[0] + '_' + str(i)\n",
        "        data[name] = (feat)\n",
        "        if(i % 200 == 0):\n",
        "          np.save(feat_path, np.array(list(data.values())))\n",
        "          np.save(filename_path, np.array(list(data.keys())))\n",
        "      # except:\n",
        "      #   with open(p,'wb') as file:\n",
        "      #     pickle.dump(data,file)\n",
        "\n",
        "np.save(feat_path, np.array(list(data.values())))\n",
        "np.save(filename_path, np.array(list(data.keys())))"
      ],
      "execution_count": null,
      "outputs": [
        {
          "output_type": "stream",
          "text": [
            "Downloading: \"https://github.com/lukemelas/EfficientNet-PyTorch/releases/download/1.0/efficientnet-b0-355c32eb.pth\" to /root/.cache/torch/hub/checkpoints/efficientnet-b0-355c32eb.pth\n"
          ],
          "name": "stderr"
        },
        {
          "output_type": "display_data",
          "data": {
            "application/vnd.jupyter.widget-view+json": {
              "model_id": "06ebec018e2443dab71e1f8e279f6874",
              "version_minor": 0,
              "version_major": 2
            },
            "text/plain": [
              "HBox(children=(FloatProgress(value=0.0, max=21388428.0), HTML(value='')))"
            ]
          },
          "metadata": {
            "tags": []
          }
        },
        {
          "output_type": "stream",
          "text": [
            "\r  0%|          | 0/15 [00:00<?, ?it/s]"
          ],
          "name": "stderr"
        },
        {
          "output_type": "stream",
          "text": [
            "\n",
            "Loaded pretrained weights for efficientnet-b0\n"
          ],
          "name": "stdout"
        },
        {
          "output_type": "stream",
          "text": [
            " 40%|████      | 6/15 [12:59<20:58, 139.83s/it]"
          ],
          "name": "stderr"
        }
      ]
    },
    {
      "cell_type": "markdown",
      "metadata": {
        "id": "EXSd3JgIsJF4"
      },
      "source": [
        "### Dimension Reduction"
      ]
    },
    {
      "cell_type": "code",
      "metadata": {
        "id": "IoX_wOe6dJWz"
      },
      "source": [
        "#PCA\n",
        "# feat = np.load(feat_path)\n",
        "# from sklearn.decomposition import PCA\n",
        "# pca = PCA(n_components=2, random_state=0)\n",
        "# pca.fit(feat)\n",
        "# x = pca.transform(feat)"
      ],
      "execution_count": null,
      "outputs": []
    },
    {
      "cell_type": "code",
      "metadata": {
        "id": "MI4Xn9lB-Zse"
      },
      "source": [
        "#TSNE\n",
        "from sklearn.manifold import TSNE\n",
        "tsne = TSNE(n_components=2, init='pca', random_state=0)\n",
        "x = tsne.fit_transform(feat)"
      ],
      "execution_count": null,
      "outputs": []
    },
    {
      "cell_type": "code",
      "metadata": {
        "id": "oA1cyqHHtl9w"
      },
      "source": [
        "len(cluster_list)"
      ],
      "execution_count": null,
      "outputs": []
    },
    {
      "cell_type": "markdown",
      "metadata": {
        "id": "M8kQROFssL5o"
      },
      "source": [
        "### Clustering"
      ]
    },
    {
      "cell_type": "code",
      "metadata": {
        "id": "FvIUYj-ksubr"
      },
      "source": [
        "def clustering_method(cmd, cluster_num, input):\n",
        "  if cmd == 'kmeans':\n",
        "    from sklearn.cluster import KMeans\n",
        "    kmeans = KMeans(n_clusters=cluster_num, n_jobs=-1, random_state = 0)\n",
        "    kmeans.fit(input)\n",
        "    return kmeans.labels_\n",
        "\n",
        "  elif cmd == 'minibatch':\n",
        "    from sklearn.cluster import MiniBatchKMeans\n",
        "    mb_kmeans = MiniBatchKMeans(n_clusters=cluster_num,random_state=0, batch_size=6)\n",
        "    mb_kmeans.fit(input)\n",
        "    return mb_kmeans.labels_\n",
        "\n",
        "  elif cmd == 'dbscan':\n",
        "    from sklearn.cluster import DBSCAN\n",
        "    dbscan = DBSCAN(eps=3, min_samples=2)\n",
        "    dbscan.fit(input)\n",
        "    return dbscan.labels_"
      ],
      "execution_count": null,
      "outputs": []
    },
    {
      "cell_type": "code",
      "metadata": {
        "id": "65BJIaq-vGtO"
      },
      "source": [
        "labels = clustering_method('kmeans', len(cluster_list), x)"
      ],
      "execution_count": null,
      "outputs": []
    },
    {
      "cell_type": "markdown",
      "metadata": {
        "id": "HmWsnNIpvIVF"
      },
      "source": [
        "### Testing"
      ]
    },
    {
      "cell_type": "code",
      "metadata": {
        "id": "yFPSTHkadqJE"
      },
      "source": [
        "filenames = np.load(filename_path)\n",
        "groups = {}\n",
        "# holds the cluster id and the images { id: [images] }\n",
        "for f, cluster in zip(filenames, labels):\n",
        "    if cluster not in groups.keys():\n",
        "        groups[cluster] = []\n",
        "        groups[cluster].append(f)\n",
        "    else:\n",
        "        groups[cluster].append(f)\n",
        "\n",
        "#make cluster_dict for calculate acc\n",
        "cluster_dict = {}\n",
        "for cluster in groups:\n",
        "  image_count = []\n",
        "  image_name = []\n",
        "  for image in groups[cluster]:\n",
        "    image_name.append(image.split('_')[0])\n",
        "  for name in cluster_list:\n",
        "    image_count.append(image_name.count(name))\n",
        "\n",
        "  cluster_dict[cluster] = cluster_list[image_count.index(max(image_count))]\n",
        "\n",
        "#Acc\n",
        "from sklearn.metrics import f1_score\n",
        "pred = []\n",
        "gt = []    \n",
        "for cluster in groups:\n",
        "    for food in groups[cluster]:\n",
        "        pred.append(cluster_dict[cluster])\n",
        "        gt.append(food.split('_')[0].split('-')[0])\n",
        "\n",
        "print(\"F1 ACC: \" + str(f1_score(gt, pred,average='micro') * 100))"
      ],
      "execution_count": null,
      "outputs": []
    }
  ]
}