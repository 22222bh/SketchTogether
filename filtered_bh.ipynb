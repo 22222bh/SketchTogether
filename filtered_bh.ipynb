{
  "nbformat": 4,
  "nbformat_minor": 0,
  "metadata": {
    "colab": {
      "name": "filtered_bh.ipynb",
      "provenance": [],
      "collapsed_sections": [],
      "authorship_tag": "ABX9TyPsDNWWeWXtrb19Nhp+FhQj",
      "include_colab_link": true
    },
    "kernelspec": {
      "name": "python3",
      "display_name": "Python 3"
    },
    "language_info": {
      "name": "python"
    }
  },
  "cells": [
    {
      "cell_type": "markdown",
      "metadata": {
        "id": "view-in-github",
        "colab_type": "text"
      },
      "source": [
        "<a href=\"https://colab.research.google.com/github/22222bh/SketchTogether/blob/user%2FByeonghyeon/filtered_bh.ipynb\" target=\"_parent\"><img src=\"https://colab.research.google.com/assets/colab-badge.svg\" alt=\"Open In Colab\"/></a>"
      ]
    },
    {
      "cell_type": "markdown",
      "metadata": {
        "id": "SSSGp-AdN1hi"
      },
      "source": [
        "초기 설정"
      ]
    },
    {
      "cell_type": "code",
      "metadata": {
        "colab": {
          "base_uri": "https://localhost:8080/"
        },
        "id": "8nwTUYKTN0SA",
        "outputId": "fef4cc6c-6c5e-4dd1-db5a-6fd441f895c2"
      },
      "source": [
        "!pip install efficientnet_pytorch\n",
        "\n",
        "from google.colab import drive\n",
        "drive.mount('/content/drive')\n"
      ],
      "execution_count": 1,
      "outputs": [
        {
          "output_type": "stream",
          "text": [
            "Collecting efficientnet_pytorch\n",
            "  Downloading efficientnet_pytorch-0.7.1.tar.gz (21 kB)\n",
            "Requirement already satisfied: torch in /usr/local/lib/python3.7/dist-packages (from efficientnet_pytorch) (1.9.0+cu102)\n",
            "Requirement already satisfied: typing-extensions in /usr/local/lib/python3.7/dist-packages (from torch->efficientnet_pytorch) (3.7.4.3)\n",
            "Building wheels for collected packages: efficientnet-pytorch\n",
            "  Building wheel for efficientnet-pytorch (setup.py) ... \u001b[?25l\u001b[?25hdone\n",
            "  Created wheel for efficientnet-pytorch: filename=efficientnet_pytorch-0.7.1-py3-none-any.whl size=16446 sha256=5efff18c26815390aac9cfa523d81a068cc3a5c5a748b2e473a1a8b3f0c034f5\n",
            "  Stored in directory: /root/.cache/pip/wheels/0e/cc/b2/49e74588263573ff778da58cc99b9c6349b496636a7e165be6\n",
            "Successfully built efficientnet-pytorch\n",
            "Installing collected packages: efficientnet-pytorch\n",
            "Successfully installed efficientnet-pytorch-0.7.1\n",
            "Collecting umap-learn\n",
            "  Downloading umap-learn-0.5.1.tar.gz (80 kB)\n",
            "\u001b[K     |████████████████████████████████| 80 kB 3.6 MB/s \n",
            "\u001b[?25hRequirement already satisfied: numpy>=1.17 in /usr/local/lib/python3.7/dist-packages (from umap-learn) (1.19.5)\n",
            "Requirement already satisfied: scikit-learn>=0.22 in /usr/local/lib/python3.7/dist-packages (from umap-learn) (0.22.2.post1)\n",
            "Requirement already satisfied: scipy>=1.0 in /usr/local/lib/python3.7/dist-packages (from umap-learn) (1.4.1)\n",
            "Requirement already satisfied: numba>=0.49 in /usr/local/lib/python3.7/dist-packages (from umap-learn) (0.51.2)\n",
            "Collecting pynndescent>=0.5\n",
            "  Downloading pynndescent-0.5.4.tar.gz (1.1 MB)\n",
            "\u001b[K     |████████████████████████████████| 1.1 MB 9.4 MB/s \n",
            "\u001b[?25hRequirement already satisfied: llvmlite<0.35,>=0.34.0.dev0 in /usr/local/lib/python3.7/dist-packages (from numba>=0.49->umap-learn) (0.34.0)\n",
            "Requirement already satisfied: setuptools in /usr/local/lib/python3.7/dist-packages (from numba>=0.49->umap-learn) (57.2.0)\n",
            "Requirement already satisfied: joblib>=0.11 in /usr/local/lib/python3.7/dist-packages (from pynndescent>=0.5->umap-learn) (1.0.1)\n",
            "Building wheels for collected packages: umap-learn, pynndescent\n",
            "  Building wheel for umap-learn (setup.py) ... \u001b[?25l\u001b[?25hdone\n",
            "  Created wheel for umap-learn: filename=umap_learn-0.5.1-py3-none-any.whl size=76566 sha256=7fbcf2fb2d7b5b0d5448edfed98ee4821379f46eb7519dc0b936ec0d68ec05ae\n",
            "  Stored in directory: /root/.cache/pip/wheels/01/e7/bb/347dc0e510803d7116a13d592b10cc68262da56a8eec4dd72f\n",
            "  Building wheel for pynndescent (setup.py) ... \u001b[?25l\u001b[?25hdone\n",
            "  Created wheel for pynndescent: filename=pynndescent-0.5.4-py3-none-any.whl size=52372 sha256=dece4aeb2e8db3ba70caa5e079e8946fc23e86bc7657c5aba9bab4bd333ce70b\n",
            "  Stored in directory: /root/.cache/pip/wheels/d0/5b/62/3401692ddad12324249c774c4b15ccb046946021e2b581c043\n",
            "Successfully built umap-learn pynndescent\n",
            "Installing collected packages: pynndescent, umap-learn\n",
            "Successfully installed pynndescent-0.5.4 umap-learn-0.5.1\n",
            "Mounted at /content/drive\n"
          ],
          "name": "stdout"
        }
      ]
    },
    {
      "cell_type": "code",
      "metadata": {
        "id": "J_vfG8EQN1VP"
      },
      "source": [
        "from efficientnet_pytorch import EfficientNet\n",
        "from sklearn.cluster import KMeans\n",
        "from sklearn.decomposition import PCA\n",
        "# from keras.applications.vgg16 import VGG16 \n",
        "# from keras.models import Model\n",
        "# from keras.applications.vgg16 import preprocess_input \n",
        "import os\n",
        "import logging\n",
        "import torch\n",
        "import pickle\n",
        "from tqdm import tqdm\n",
        "from torchvision import transforms\n",
        "import numpy as np\n",
        "import pandas as pd\n",
        "from PIL import Image\n",
        "import matplotlib.pyplot as plt"
      ],
      "execution_count": 2,
      "outputs": []
    },
    {
      "cell_type": "code",
      "metadata": {
        "id": "8Pyjvf2NODmd"
      },
      "source": [
        "filename = 'filtered_10'\n",
        "data_path = '/content/drive/MyDrive/Sketch_RNN/Dataset/Filtered_img/'\n",
        "cluster_list_path = '/content/drive/MyDrive/Sketch_RNN/Dataset/Filtered_img/cluster_list.txt'\n",
        "feat_path = \"/content/drive/MyDrive/skku_Clustering/features_hw_\" + filename + \".npy\"\n",
        "filename_path = \"/content/drive/MyDrive/skku_Clustering/filenames_hw_\" + filename + \".npy\"\n",
        "save_path = '/content/drive/MyDrive/skku_Clustering/Result/'\n",
        "test_path = '/content/drive/MyDrive/skku_Clustering/test_set/'"
      ],
      "execution_count": 37,
      "outputs": []
    },
    {
      "cell_type": "code",
      "metadata": {
        "id": "JETaCQloN-s7"
      },
      "source": [
        "os.chdir(data_path)\n",
        "data_list = []\n",
        "with os.scandir(data_path) as files:\n",
        "    for file in files:\n",
        "        if not file.name.endswith('.txt'):\n",
        "            data_list.append(file.name)\n",
        "\n",
        "cluster_list = open(cluster_list_path , 'r').read().split('\\n') \n",
        "\n",
        "#transform\n",
        "tfms = transforms.Compose([transforms.Resize(224), transforms.ToTensor(),\n",
        "    transforms.Normalize([0.485, 0.456, 0.406], [0.229, 0.224, 0.225]),])\n",
        "\n",
        "def feature_extraction(image, model):\n",
        "    img = tfms(image.convert(\"RGB\")).unsqueeze(0)\n",
        "    features = model.extract_features(img)\n",
        "    return features\n",
        "\n"
      ],
      "execution_count": 4,
      "outputs": []
    },
    {
      "cell_type": "markdown",
      "metadata": {
        "id": "DF2O8Z0l8ALu"
      },
      "source": [
        "# Test set 생성"
      ]
    },
    {
      "cell_type": "code",
      "metadata": {
        "colab": {
          "base_uri": "https://localhost:8080/"
        },
        "id": "hF12WLlb7-4S",
        "outputId": "32e41da2-736c-43f7-e7ae-0a03a0cd4f04"
      },
      "source": [
        "cluster_list = open(cluster_list_path, 'r').read().split('\\n')\n",
        "\n",
        "s = 2000\n",
        "e = 2010\n",
        "for label in cluster_list:\n",
        "  path = test_path + label + '/'\n",
        "  print(path)\n",
        "  if os.path.isdir(path) == False:\n",
        "    os.makedirs(path)\n",
        "  os.chdir(path)\n",
        "  images = np.load('/content/drive/MyDrive/Sketch_RNN/Dataset/test/' + label + '.npy')\n",
        "  for i in range (s, e): \n",
        "    image = Image.fromarray(images[i].reshape(28, 28))\n",
        "    image.save('test_' + label + '_' + str(i - s + 1) + '.jpg')"
      ],
      "execution_count": 40,
      "outputs": [
        {
          "output_type": "stream",
          "text": [
            "/content/drive/MyDrive/skku_Clustering/test_set/cat/\n",
            "/content/drive/MyDrive/skku_Clustering/test_set/circle/\n",
            "/content/drive/MyDrive/skku_Clustering/test_set/cloud/\n",
            "/content/drive/MyDrive/skku_Clustering/test_set/dog/\n",
            "/content/drive/MyDrive/skku_Clustering/test_set/ear/\n",
            "/content/drive/MyDrive/skku_Clustering/test_set/eye/\n",
            "/content/drive/MyDrive/skku_Clustering/test_set/moustache/\n",
            "/content/drive/MyDrive/skku_Clustering/test_set/mouth/\n",
            "/content/drive/MyDrive/skku_Clustering/test_set/nose/\n",
            "/content/drive/MyDrive/skku_Clustering/test_set/triangle/\n"
          ],
          "name": "stdout"
        }
      ]
    },
    {
      "cell_type": "markdown",
      "metadata": {
        "id": "wdWegNuUHTu-"
      },
      "source": [
        "# Clustering algorithm 설정"
      ]
    },
    {
      "cell_type": "code",
      "metadata": {
        "id": "_nlxINqJC5Cj"
      },
      "source": [
        "_eps = 1.8\n",
        "_ms = 5\n",
        "\n",
        "def clustering_method(cmd, cluster_num, input):\n",
        "  if cmd == 'kmeans':\n",
        "    from sklearn.cluster import KMeans\n",
        "    kmeans = KMeans(n_clusters=cluster_num, n_init = 20, n_jobs=-1, random_state = 0)\n",
        "    kmeans.fit(input)\n",
        "    return kmeans.labels_\n",
        "\n",
        "  elif cmd == 'minibatch':\n",
        "    from sklearn.cluster import MiniBatchKMeans\n",
        "    mb_kmeans = MiniBatchKMeans(n_clusters=cluster_num,random_state=0, batch_size=6)\n",
        "    mb_kmeans.fit(input)\n",
        "    return mb_kmeans.labels_\n",
        "\n",
        "  elif cmd == 'dbscan':\n",
        "    from sklearn.cluster import DBSCAN\n",
        "    dbscan = DBSCAN(eps=_eps, min_samples=_ms) # eps 1.8이면 63프로\n",
        "    dbscan.fit(input)\n",
        "    return dbscan.labels_\n",
        "  \n",
        "  elif cmd == 'optics':\n",
        "    from sklearn.cluster import OPTICS, cluster_optics_dbscan\n",
        "    optics = OPTICS(min_samples = 5)\n",
        "    optics.fit(input)\n",
        "    return optics.labels_"
      ],
      "execution_count": 41,
      "outputs": []
    },
    {
      "cell_type": "code",
      "metadata": {
        "colab": {
          "base_uri": "https://localhost:8080/"
        },
        "id": "wupHmO777KFr",
        "outputId": "17b28030-815c-40d5-ef28-cfa28c1910c2"
      },
      "source": [
        "from torch import nn\n",
        "model = EfficientNet.from_pretrained('efficientnet-b0')\n",
        "data = {}\n",
        "noise = 0\n",
        "correct = 0\n",
        "wrong = 0\n",
        "avg_pooling = nn.AdaptiveAvgPool2d(1)\n",
        "\n",
        "os.chdir(test_path)\n",
        "test_list = []\n",
        "with os.scandir(test_path) as files:\n",
        "  for file in files:\n",
        "    if not file.name.startswith('.'):\n",
        "      test_list.append(file.name)\n",
        "\n",
        "for folder in test_list:\n",
        "  test_images = os.listdir(test_path + folder)\n",
        "  for i, image_name in enumerate(test_images):\n",
        "    # train data의 feature vector load\n",
        "    feat = np.load(feat_path)\n",
        "\n",
        "    # test data에 대하여 feature 추출\n",
        "    image = Image.open(test_path + folder +'/'+ image_name)\n",
        "    new_feat = feature_extraction(image, model)\n",
        "    new_feat = avg_pooling(new_feat)\n",
        "    new_feat = new_feat.detach().numpy().reshape(-1)\n",
        "    new_feat = new_feat.reshape(1, -1)\n",
        "\n",
        "    # 기존 feature vector에 append. \n",
        "    feat = np.append(feat, new_feat, axis = 0)\n",
        "    # print(feat.shape) # 608이 나와야 함\n",
        "\n",
        "    # 차원 축소(t-SNE)\n",
        "    feat = tsne.fit_transform(feat)\n",
        "\n",
        "    # clustering\n",
        "    labels = clustering_method('dbscan', len(cluster_list), feat)\n",
        "\n",
        "    # 결과 보는 단계\n",
        "    filenames = np.load(filename_path)\n",
        "    filenames = np.append(filenames,image_name)\n",
        "\n",
        "    groups = {}\n",
        "    # holds the cluster id and the images { id: [images] }\n",
        "    i = 0\n",
        "    for f, cluster in zip(filenames, labels):\n",
        "        if cluster not in groups.keys():\n",
        "            groups[cluster] = []\n",
        "            groups[cluster].append(f)\n",
        "        else:\n",
        "            groups[cluster].append(f)\n",
        "\n",
        "\n",
        "    #make cluster_dict for calculate acc\n",
        "    cluster_dict = {}\n",
        "    for cluster in groups:\n",
        "      image_count = []\n",
        "      image_name = []\n",
        "      for image in groups[cluster]:\n",
        "        image_name.append(image.split('_')[0])\n",
        "      for name in cluster_list:\n",
        "        image_count.append(image_name.count(name))\n",
        "      cluster_dict[cluster] = cluster_list[image_count.index(max(image_count))]\n",
        "    \n",
        "    #Acc\n",
        "    from sklearn.metrics import f1_score\n",
        "    pred = []\n",
        "    gt = []    \n",
        "    for cluster in groups:\n",
        "        for food in groups[cluster]:\n",
        "            pred.append(cluster_dict[cluster])\n",
        "            gt.append(food.split('_')[0])\n",
        "            if food.split('_')[0] == 'test':\n",
        "              if cluster == -1:\n",
        "                res = food.split('_')[1] + ' = ' + str(cluster)\n",
        "                noise+=1\n",
        "              else:\n",
        "                res = food.split('_')[1] + ' = ' + cluster_dict[cluster]\n",
        "                if food.split('_')[1] == cluster_dict[cluster]:\n",
        "                  correct += 1\n",
        "                else:\n",
        "                  wrong += 1\n",
        "\n",
        "\n",
        "    acc = str(round(f1_score(gt, pred,average='micro') * 100, 2))\n",
        "    print('res: ' + res + '    ACC: ' + acc + '    #cluster: ' + str(len(cluster_dict)))\n",
        "    print('\\t\\t', end='')\n",
        "    print(cluster_dict)\n",
        "\n",
        "print('-----result-----')\n",
        "print('total test: ', wrong + noise + correct)\n",
        "print('noise: ', noise)\n",
        "print('correct: ', correct)\n",
        "print('wrong: ', wrong)\n",
        "\n"
      ],
      "execution_count": null,
      "outputs": [
        {
          "output_type": "stream",
          "text": [
            "Loaded pretrained weights for efficientnet-b0\n",
            "res: cat = -1    ACC: 75.66    #cluster: 35\n",
            "\t\t{0: 'ear', 3: 'ear', 1: 'ear', 2: 'ear', -1: 'dog', 4: 'circle', 5: 'dog', 6: 'cat', 7: 'cat', 11: 'cat', 8: 'cat', 15: 'nose', 13: 'cat', 12: 'dog', 33: 'cat', 9: 'dog', 31: 'mouth', 10: 'dog', 29: 'eye', 14: 'nose', 22: 'triangle', 16: 'nose', 17: 'triangle', 18: 'moustache', 19: 'moustache', 20: 'eye', 21: 'cloud', 30: 'mouth', 23: 'triangle', 24: 'cloud', 25: 'cloud', 26: 'eye', 27: 'eye', 28: 'eye', 32: 'mouth'}\n",
            "res: cat = -1    ACC: 77.8    #cluster: 30\n",
            "\t\t{0: 'ear', 1: 'ear', 2: 'ear', 3: 'ear', -1: 'dog', 4: 'circle', 6: 'cat', 5: 'dog', 7: 'cat', 8: 'cat', 24: 'eye', 9: 'cat', 10: 'nose', 12: 'cloud', 11: 'dog', 26: 'mouth', 13: 'nose', 19: 'triangle', 15: 'triangle', 14: 'nose', 16: 'moustache', 17: 'moustache', 18: 'cloud', 20: 'triangle', 25: 'mouth', 21: 'cloud', 22: 'eye', 23: 'eye', 27: 'mouth', 28: 'mouth'}\n",
            "res: cat = cat    ACC: 73.52    #cluster: 28\n",
            "\t\t{1: 'ear', 3: 'ear', 0: 'ear', 2: 'ear', -1: 'dog', 4: 'circle', 5: 'dog', 6: 'cat', 7: 'cat', 24: 'cat', 23: 'eye', 8: 'dog', 11: 'nose', 10: 'dog', 25: 'mouth', 9: 'dog', 20: 'cloud', 13: 'nose', 19: 'triangle', 14: 'triangle', 12: 'nose', 15: 'moustache', 16: 'moustache', 17: 'mouth', 18: 'triangle', 21: 'cloud', 22: 'eye', 26: 'mouth'}\n",
            "res: cat = -1    ACC: 73.85    #cluster: 24\n",
            "\t\t{0: 'ear', 1: 'ear', -1: 'dog', 2: 'circle', 3: 'dog', 4: 'cat', 5: 'cat', 6: 'cat', 11: 'nose', 7: 'cat', 8: 'dog', 21: 'mouth', 9: 'eye', 18: 'cloud', 10: 'nose', 16: 'triangle', 13: 'triangle', 12: 'nose', 14: 'moustache', 15: 'moustache', 17: 'triangle', 19: 'cloud', 20: 'eye', 22: 'mouth'}\n",
            "res: cat = eye    ACC: 73.19    #cluster: 28\n",
            "\t\t{0: 'ear', 3: 'ear', 1: 'ear', 2: 'ear', -1: 'dog', 4: 'circle', 9: 'dog', 5: 'cat', 6: 'dog', 7: 'cat', 10: 'eye', 12: 'nose', 8: 'dog', 25: 'mouth', 20: 'cloud', 11: 'nose', 18: 'triangle', 14: 'triangle', 13: 'nose', 15: 'moustache', 16: 'moustache', 17: 'cloud', 19: 'triangle', 23: 'cloud', 21: 'cloud', 22: 'cloud', 24: 'eye', 26: 'mouth'}\n",
            "res: cat = eye    ACC: 75.66    #cluster: 25\n",
            "\t\t{0: 'ear', 2: 'ear', 1: 'ear', -1: 'dog', 3: 'circle', 4: 'dog', 5: 'cat', 6: 'cat', 7: 'cat', 10: 'eye', 12: 'nose', 8: 'dog', 9: 'dog', 22: 'mouth', 18: 'cloud', 11: 'nose', 17: 'triangle', 13: 'nose', 14: 'moustache', 15: 'moustache', 16: 'cloud', 19: 'cloud', 20: 'eye', 21: 'eye', 23: 'mouth'}\n",
            "res: cat = cat    ACC: 76.64    #cluster: 24\n",
            "\t\t{0: 'ear', 1: 'ear', 2: 'ear', 3: 'ear', -1: 'dog', 4: 'circle', 5: 'cat', 6: 'cat', 7: 'dog', 20: 'eye', 8: 'cat', 12: 'nose', 9: 'dog', 10: 'dog', 17: 'cloud', 11: 'nose', 14: 'triangle', 13: 'nose', 15: 'moustache', 18: 'mouth', 16: 'triangle', 19: 'eye', 21: 'mouth', 22: 'mouth'}\n"
          ],
          "name": "stdout"
        }
      ]
    }
  ]
}